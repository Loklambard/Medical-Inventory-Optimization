{
 "cells": [
  {
   "cell_type": "code",
   "execution_count": 1,
   "id": "4197daff-1634-4c42-959a-30379eb6871b",
   "metadata": {},
   "outputs": [],
   "source": [
    "import pandas as pd\n",
    "import numpy as np\n",
    "import matplotlib.pyplot as plt"
   ]
  },
  {
   "cell_type": "code",
   "execution_count": 2,
   "id": "a6b0eb2f-e018-4a04-b2f8-2ead915129d6",
   "metadata": {
    "scrolled": true
   },
   "outputs": [
    {
     "data": {
      "text/html": [
       "<div>\n",
       "<style scoped>\n",
       "    .dataframe tbody tr th:only-of-type {\n",
       "        vertical-align: middle;\n",
       "    }\n",
       "\n",
       "    .dataframe tbody tr th {\n",
       "        vertical-align: top;\n",
       "    }\n",
       "\n",
       "    .dataframe thead th {\n",
       "        text-align: right;\n",
       "    }\n",
       "</style>\n",
       "<table border=\"1\" class=\"dataframe\">\n",
       "  <thead>\n",
       "    <tr style=\"text-align: right;\">\n",
       "      <th></th>\n",
       "      <th>Typeofsales</th>\n",
       "      <th>Patient_ID</th>\n",
       "      <th>Specialisation</th>\n",
       "      <th>Dept</th>\n",
       "      <th>Dateofbill</th>\n",
       "      <th>Quantity</th>\n",
       "      <th>ReturnQuantity</th>\n",
       "      <th>Final_Cost</th>\n",
       "      <th>Final_Sales</th>\n",
       "      <th>RtnMRP</th>\n",
       "      <th>Formulation</th>\n",
       "      <th>DrugName</th>\n",
       "      <th>SubCat</th>\n",
       "      <th>SubCat1</th>\n",
       "    </tr>\n",
       "  </thead>\n",
       "  <tbody>\n",
       "    <tr>\n",
       "      <th>0</th>\n",
       "      <td>Sale</td>\n",
       "      <td>12018098765</td>\n",
       "      <td>Specialisation6</td>\n",
       "      <td>Department1</td>\n",
       "      <td>6/1/2022</td>\n",
       "      <td>1</td>\n",
       "      <td>0</td>\n",
       "      <td>55.406</td>\n",
       "      <td>59.260</td>\n",
       "      <td>0.0</td>\n",
       "      <td>Form1</td>\n",
       "      <td>ZINC ACETATE 20MG/5ML SYP</td>\n",
       "      <td>SYRUP &amp; SUSPENSION</td>\n",
       "      <td>VITAMINS &amp; MINERALS</td>\n",
       "    </tr>\n",
       "    <tr>\n",
       "      <th>1</th>\n",
       "      <td>Sale</td>\n",
       "      <td>12018103897</td>\n",
       "      <td>Specialisation7</td>\n",
       "      <td>Department1</td>\n",
       "      <td>7/23/2022</td>\n",
       "      <td>1</td>\n",
       "      <td>0</td>\n",
       "      <td>768.638</td>\n",
       "      <td>950.800</td>\n",
       "      <td>0.0</td>\n",
       "      <td>Form1</td>\n",
       "      <td>CEFTAZIDIME 2GM+AVIBACTAM 500MG</td>\n",
       "      <td>INJECTIONS</td>\n",
       "      <td>ANTI-INFECTIVES</td>\n",
       "    </tr>\n",
       "    <tr>\n",
       "      <th>2</th>\n",
       "      <td>Sale</td>\n",
       "      <td>12018101123</td>\n",
       "      <td>Specialisation2</td>\n",
       "      <td>Department3</td>\n",
       "      <td>6/23/2022</td>\n",
       "      <td>1</td>\n",
       "      <td>0</td>\n",
       "      <td>774.266</td>\n",
       "      <td>4004.214</td>\n",
       "      <td>0.0</td>\n",
       "      <td>Form2</td>\n",
       "      <td>EPTIFIBATIDE 0.75MG/ML</td>\n",
       "      <td>INJECTIONS</td>\n",
       "      <td>CARDIOVASCULAR &amp; HEMATOPOIETIC SYSTEM</td>\n",
       "    </tr>\n",
       "    <tr>\n",
       "      <th>3</th>\n",
       "      <td>Sale</td>\n",
       "      <td>12018079281</td>\n",
       "      <td>Specialisation40</td>\n",
       "      <td>Department1</td>\n",
       "      <td>3/17/2022</td>\n",
       "      <td>2</td>\n",
       "      <td>0</td>\n",
       "      <td>40.798</td>\n",
       "      <td>81.044</td>\n",
       "      <td>0.0</td>\n",
       "      <td>Form1</td>\n",
       "      <td>WATER FOR INJECTION 10ML SOLUTION</td>\n",
       "      <td>INJECTIONS</td>\n",
       "      <td>INTRAVENOUS &amp; OTHER STERILE SOLUTIONS</td>\n",
       "    </tr>\n",
       "    <tr>\n",
       "      <th>4</th>\n",
       "      <td>Sale</td>\n",
       "      <td>12018117928</td>\n",
       "      <td>Specialisation5</td>\n",
       "      <td>Department1</td>\n",
       "      <td>12/21/2022</td>\n",
       "      <td>1</td>\n",
       "      <td>0</td>\n",
       "      <td>40.434</td>\n",
       "      <td>40.504</td>\n",
       "      <td>0.0</td>\n",
       "      <td>Form1</td>\n",
       "      <td>LORAZEPAM 1MG</td>\n",
       "      <td>TABLETS &amp; CAPSULES</td>\n",
       "      <td>CENTRAL NERVOUS SYSTEM</td>\n",
       "    </tr>\n",
       "    <tr>\n",
       "      <th>...</th>\n",
       "      <td>...</td>\n",
       "      <td>...</td>\n",
       "      <td>...</td>\n",
       "      <td>...</td>\n",
       "      <td>...</td>\n",
       "      <td>...</td>\n",
       "      <td>...</td>\n",
       "      <td>...</td>\n",
       "      <td>...</td>\n",
       "      <td>...</td>\n",
       "      <td>...</td>\n",
       "      <td>...</td>\n",
       "      <td>...</td>\n",
       "      <td>...</td>\n",
       "    </tr>\n",
       "    <tr>\n",
       "      <th>14213</th>\n",
       "      <td>Sale</td>\n",
       "      <td>12018099994</td>\n",
       "      <td>Specialisation39</td>\n",
       "      <td>Department1</td>\n",
       "      <td>6/19/2022</td>\n",
       "      <td>3</td>\n",
       "      <td>0</td>\n",
       "      <td>61.436</td>\n",
       "      <td>145.200</td>\n",
       "      <td>0.0</td>\n",
       "      <td>Form1</td>\n",
       "      <td>SODIUM CHLORIDE IVF 100ML</td>\n",
       "      <td>IV FLUIDS, ELECTROLYTES, TPN</td>\n",
       "      <td>INTRAVENOUS &amp; OTHER STERILE SOLUTIONS</td>\n",
       "    </tr>\n",
       "    <tr>\n",
       "      <th>14214</th>\n",
       "      <td>Sale</td>\n",
       "      <td>12018047025</td>\n",
       "      <td>Specialisation4</td>\n",
       "      <td>Department1</td>\n",
       "      <td>2/24/2022</td>\n",
       "      <td>2</td>\n",
       "      <td>0</td>\n",
       "      <td>64.448</td>\n",
       "      <td>119.692</td>\n",
       "      <td>0.0</td>\n",
       "      <td>Form1</td>\n",
       "      <td>PIPERACILLIN 1GM + TAZOBACTAM 125MG</td>\n",
       "      <td>INJECTIONS</td>\n",
       "      <td>ANTI-INFECTIVES</td>\n",
       "    </tr>\n",
       "    <tr>\n",
       "      <th>14215</th>\n",
       "      <td>Sale</td>\n",
       "      <td>12018017139</td>\n",
       "      <td>Specialisation1</td>\n",
       "      <td>Department1</td>\n",
       "      <td>6/27/2022</td>\n",
       "      <td>4</td>\n",
       "      <td>0</td>\n",
       "      <td>74.944</td>\n",
       "      <td>642.040</td>\n",
       "      <td>0.0</td>\n",
       "      <td>Form1</td>\n",
       "      <td>PARACETAMOL 1GM IV INJ</td>\n",
       "      <td>INJECTIONS</td>\n",
       "      <td>CENTRAL NERVOUS SYSTEM</td>\n",
       "    </tr>\n",
       "    <tr>\n",
       "      <th>14216</th>\n",
       "      <td>Sale</td>\n",
       "      <td>12018044140</td>\n",
       "      <td>Specialisation20</td>\n",
       "      <td>Department1</td>\n",
       "      <td>7/30/2022</td>\n",
       "      <td>1</td>\n",
       "      <td>0</td>\n",
       "      <td>111.680</td>\n",
       "      <td>181.000</td>\n",
       "      <td>0.0</td>\n",
       "      <td>Form3</td>\n",
       "      <td>MEROPENEM 1GM INJ</td>\n",
       "      <td>INJECTIONS</td>\n",
       "      <td>ANTI-INFECTIVES</td>\n",
       "    </tr>\n",
       "    <tr>\n",
       "      <th>14217</th>\n",
       "      <td>Sale</td>\n",
       "      <td>12018116820</td>\n",
       "      <td>Specialisation26</td>\n",
       "      <td>Department1</td>\n",
       "      <td>10/24/2022</td>\n",
       "      <td>3</td>\n",
       "      <td>0</td>\n",
       "      <td>46.182</td>\n",
       "      <td>133.800</td>\n",
       "      <td>0.0</td>\n",
       "      <td>Form1</td>\n",
       "      <td>TRAMADOL</td>\n",
       "      <td>INJECTIONS</td>\n",
       "      <td>CENTRAL NERVOUS SYSTEM</td>\n",
       "    </tr>\n",
       "  </tbody>\n",
       "</table>\n",
       "<p>14218 rows × 14 columns</p>\n",
       "</div>"
      ],
      "text/plain": [
       "      Typeofsales   Patient_ID    Specialisation         Dept  Dateofbill  \\\n",
       "0            Sale  12018098765   Specialisation6  Department1    6/1/2022   \n",
       "1            Sale  12018103897   Specialisation7  Department1   7/23/2022   \n",
       "2            Sale  12018101123   Specialisation2  Department3   6/23/2022   \n",
       "3            Sale  12018079281  Specialisation40  Department1   3/17/2022   \n",
       "4            Sale  12018117928   Specialisation5  Department1  12/21/2022   \n",
       "...           ...          ...               ...          ...         ...   \n",
       "14213        Sale  12018099994  Specialisation39  Department1   6/19/2022   \n",
       "14214        Sale  12018047025   Specialisation4  Department1   2/24/2022   \n",
       "14215        Sale  12018017139   Specialisation1  Department1   6/27/2022   \n",
       "14216        Sale  12018044140  Specialisation20  Department1   7/30/2022   \n",
       "14217        Sale  12018116820  Specialisation26  Department1  10/24/2022   \n",
       "\n",
       "       Quantity  ReturnQuantity  Final_Cost  Final_Sales  RtnMRP Formulation  \\\n",
       "0             1               0      55.406       59.260     0.0       Form1   \n",
       "1             1               0     768.638      950.800     0.0       Form1   \n",
       "2             1               0     774.266     4004.214     0.0       Form2   \n",
       "3             2               0      40.798       81.044     0.0       Form1   \n",
       "4             1               0      40.434       40.504     0.0       Form1   \n",
       "...         ...             ...         ...          ...     ...         ...   \n",
       "14213         3               0      61.436      145.200     0.0       Form1   \n",
       "14214         2               0      64.448      119.692     0.0       Form1   \n",
       "14215         4               0      74.944      642.040     0.0       Form1   \n",
       "14216         1               0     111.680      181.000     0.0       Form3   \n",
       "14217         3               0      46.182      133.800     0.0       Form1   \n",
       "\n",
       "                                  DrugName                        SubCat  \\\n",
       "0                ZINC ACETATE 20MG/5ML SYP            SYRUP & SUSPENSION   \n",
       "1          CEFTAZIDIME 2GM+AVIBACTAM 500MG                    INJECTIONS   \n",
       "2                   EPTIFIBATIDE 0.75MG/ML                    INJECTIONS   \n",
       "3        WATER FOR INJECTION 10ML SOLUTION                    INJECTIONS   \n",
       "4                            LORAZEPAM 1MG            TABLETS & CAPSULES   \n",
       "...                                    ...                           ...   \n",
       "14213            SODIUM CHLORIDE IVF 100ML  IV FLUIDS, ELECTROLYTES, TPN   \n",
       "14214  PIPERACILLIN 1GM + TAZOBACTAM 125MG                    INJECTIONS   \n",
       "14215               PARACETAMOL 1GM IV INJ                    INJECTIONS   \n",
       "14216                    MEROPENEM 1GM INJ                    INJECTIONS   \n",
       "14217                             TRAMADOL                    INJECTIONS   \n",
       "\n",
       "                                     SubCat1  \n",
       "0                        VITAMINS & MINERALS  \n",
       "1                            ANTI-INFECTIVES  \n",
       "2      CARDIOVASCULAR & HEMATOPOIETIC SYSTEM  \n",
       "3      INTRAVENOUS & OTHER STERILE SOLUTIONS  \n",
       "4                     CENTRAL NERVOUS SYSTEM  \n",
       "...                                      ...  \n",
       "14213  INTRAVENOUS & OTHER STERILE SOLUTIONS  \n",
       "14214                        ANTI-INFECTIVES  \n",
       "14215                 CENTRAL NERVOUS SYSTEM  \n",
       "14216                        ANTI-INFECTIVES  \n",
       "14217                 CENTRAL NERVOUS SYSTEM  \n",
       "\n",
       "[14218 rows x 14 columns]"
      ]
     },
     "execution_count": 2,
     "metadata": {},
     "output_type": "execute_result"
    }
   ],
   "source": [
    "data=pd.read_csv('Medical Inventory Optimaization Dataset - Projectfinaldata (1).csv')\n",
    "data"
   ]
  },
  {
   "cell_type": "code",
   "execution_count": null,
   "id": "00557e06-9a3b-4da7-9360-cefcf5a6018f",
   "metadata": {},
   "outputs": [],
   "source": [
    "#MEAN"
   ]
  },
  {
   "cell_type": "code",
   "execution_count": 13,
   "id": "00f3cece-3970-4186-88eb-fe6a4d791510",
   "metadata": {},
   "outputs": [
    {
     "data": {
      "text/plain": [
       "234.0383004642003"
      ]
     },
     "execution_count": 13,
     "metadata": {},
     "output_type": "execute_result"
    }
   ],
   "source": [
    "data['Final_Sales'].mean()"
   ]
  },
  {
   "cell_type": "code",
   "execution_count": 21,
   "id": "9582a1b5-38cc-42ce-a54a-2d911928b218",
   "metadata": {
    "scrolled": true
   },
   "outputs": [
    {
     "data": {
      "text/html": [
       "<div>\n",
       "<style scoped>\n",
       "    .dataframe tbody tr th:only-of-type {\n",
       "        vertical-align: middle;\n",
       "    }\n",
       "\n",
       "    .dataframe tbody tr th {\n",
       "        vertical-align: top;\n",
       "    }\n",
       "\n",
       "    .dataframe thead th {\n",
       "        text-align: right;\n",
       "    }\n",
       "</style>\n",
       "<table border=\"1\" class=\"dataframe\">\n",
       "  <thead>\n",
       "    <tr style=\"text-align: right;\">\n",
       "      <th></th>\n",
       "      <th>SubCat</th>\n",
       "      <th>SubCat1</th>\n",
       "      <th>Mean_Sales</th>\n",
       "    </tr>\n",
       "  </thead>\n",
       "  <tbody>\n",
       "    <tr>\n",
       "      <th>49</th>\n",
       "      <td>POWDER</td>\n",
       "      <td>CARDIOVASCULAR &amp; HEMATOPOIETIC SYSTEM</td>\n",
       "      <td>2030.000000</td>\n",
       "    </tr>\n",
       "    <tr>\n",
       "      <th>29</th>\n",
       "      <td>LIQUIDS &amp; SOLUTIONS</td>\n",
       "      <td>ANAESTHETICS</td>\n",
       "      <td>1929.196850</td>\n",
       "    </tr>\n",
       "    <tr>\n",
       "      <th>17</th>\n",
       "      <td>INJECTIONS</td>\n",
       "      <td>IMMUNOLOGY</td>\n",
       "      <td>1667.177000</td>\n",
       "    </tr>\n",
       "    <tr>\n",
       "      <th>22</th>\n",
       "      <td>INJECTIONS</td>\n",
       "      <td>ONCOLOGY</td>\n",
       "      <td>1226.340400</td>\n",
       "    </tr>\n",
       "    <tr>\n",
       "      <th>8</th>\n",
       "      <td>INJECTIONS</td>\n",
       "      <td>ANTI-INFECTIVES</td>\n",
       "      <td>696.252263</td>\n",
       "    </tr>\n",
       "    <tr>\n",
       "      <th>...</th>\n",
       "      <td>...</td>\n",
       "      <td>...</td>\n",
       "      <td>...</td>\n",
       "    </tr>\n",
       "    <tr>\n",
       "      <th>65</th>\n",
       "      <td>SYRUP &amp; SUSPENSION</td>\n",
       "      <td>HORMONES</td>\n",
       "      <td>40.211250</td>\n",
       "    </tr>\n",
       "    <tr>\n",
       "      <th>66</th>\n",
       "      <td>SYRUP &amp; SUSPENSION</td>\n",
       "      <td>IMMUNOLOGY</td>\n",
       "      <td>39.947000</td>\n",
       "    </tr>\n",
       "    <tr>\n",
       "      <th>62</th>\n",
       "      <td>SYRUP &amp; SUSPENSION</td>\n",
       "      <td>CENTRAL NERVOUS SYSTEM</td>\n",
       "      <td>39.270333</td>\n",
       "    </tr>\n",
       "    <tr>\n",
       "      <th>51</th>\n",
       "      <td>POWDER</td>\n",
       "      <td>ENDOCRINE &amp; METABOLIC SYSTEM</td>\n",
       "      <td>0.000000</td>\n",
       "    </tr>\n",
       "    <tr>\n",
       "      <th>1</th>\n",
       "      <td>DROPS</td>\n",
       "      <td>GASTROINTESTINAL &amp; HEPATOBILIARY SYSTEM</td>\n",
       "      <td>0.000000</td>\n",
       "    </tr>\n",
       "  </tbody>\n",
       "</table>\n",
       "<p>85 rows × 3 columns</p>\n",
       "</div>"
      ],
      "text/plain": [
       "                 SubCat                                  SubCat1   Mean_Sales\n",
       "49               POWDER    CARDIOVASCULAR & HEMATOPOIETIC SYSTEM  2030.000000\n",
       "29  LIQUIDS & SOLUTIONS                             ANAESTHETICS  1929.196850\n",
       "17           INJECTIONS                               IMMUNOLOGY  1667.177000\n",
       "22           INJECTIONS                                 ONCOLOGY  1226.340400\n",
       "8            INJECTIONS                          ANTI-INFECTIVES   696.252263\n",
       "..                  ...                                      ...          ...\n",
       "65   SYRUP & SUSPENSION                                 HORMONES    40.211250\n",
       "66   SYRUP & SUSPENSION                               IMMUNOLOGY    39.947000\n",
       "62   SYRUP & SUSPENSION                   CENTRAL NERVOUS SYSTEM    39.270333\n",
       "51               POWDER             ENDOCRINE & METABOLIC SYSTEM     0.000000\n",
       "1                 DROPS  GASTROINTESTINAL & HEPATOBILIARY SYSTEM     0.000000\n",
       "\n",
       "[85 rows x 3 columns]"
      ]
     },
     "execution_count": 21,
     "metadata": {},
     "output_type": "execute_result"
    }
   ],
   "source": [
    "data.groupby(['SubCat','SubCat1'])['Final_Sales'].mean().to_frame('Mean_Sales').reset_index().sort_values('Mean_Sales',ascending=False)"
   ]
  },
  {
   "cell_type": "code",
   "execution_count": 22,
   "id": "10ed3ef5-1d6e-400c-b1a7-45738605f379",
   "metadata": {},
   "outputs": [
    {
     "data": {
      "text/html": [
       "<div>\n",
       "<style scoped>\n",
       "    .dataframe tbody tr th:only-of-type {\n",
       "        vertical-align: middle;\n",
       "    }\n",
       "\n",
       "    .dataframe tbody tr th {\n",
       "        vertical-align: top;\n",
       "    }\n",
       "\n",
       "    .dataframe thead th {\n",
       "        text-align: right;\n",
       "    }\n",
       "</style>\n",
       "<table border=\"1\" class=\"dataframe\">\n",
       "  <thead>\n",
       "    <tr style=\"text-align: right;\">\n",
       "      <th></th>\n",
       "      <th>DrugName</th>\n",
       "      <th>Mean_Sales</th>\n",
       "    </tr>\n",
       "  </thead>\n",
       "  <tbody>\n",
       "    <tr>\n",
       "      <th>553</th>\n",
       "      <td>PEMBROLIZUMAB</td>\n",
       "      <td>39490.0000</td>\n",
       "    </tr>\n",
       "    <tr>\n",
       "      <th>67</th>\n",
       "      <td>BASILIXIMAB 20 MG</td>\n",
       "      <td>15910.4000</td>\n",
       "    </tr>\n",
       "    <tr>\n",
       "      <th>551</th>\n",
       "      <td>PEGASPARGASE 3750IU</td>\n",
       "      <td>10900.0000</td>\n",
       "    </tr>\n",
       "    <tr>\n",
       "      <th>308</th>\n",
       "      <td>HUMAN GAMMA GLOBULIN 100ML INJ</td>\n",
       "      <td>10711.5368</td>\n",
       "    </tr>\n",
       "    <tr>\n",
       "      <th>687</th>\n",
       "      <td>TENECTEPLASE 40MG INJ</td>\n",
       "      <td>10172.0000</td>\n",
       "    </tr>\n",
       "    <tr>\n",
       "      <th>...</th>\n",
       "      <td>...</td>\n",
       "      <td>...</td>\n",
       "    </tr>\n",
       "    <tr>\n",
       "      <th>314</th>\n",
       "      <td>HYDROCORTISONE 5MG TAB</td>\n",
       "      <td>0.0000</td>\n",
       "    </tr>\n",
       "    <tr>\n",
       "      <th>321</th>\n",
       "      <td>IBANDRONIC ACID 150MG TAB</td>\n",
       "      <td>0.0000</td>\n",
       "    </tr>\n",
       "    <tr>\n",
       "      <th>326</th>\n",
       "      <td>INFANT NUTRITIONAL PRODUCTS POWDER</td>\n",
       "      <td>0.0000</td>\n",
       "    </tr>\n",
       "    <tr>\n",
       "      <th>477</th>\n",
       "      <td>MULTI VITAMINS 15ML DROPS</td>\n",
       "      <td>0.0000</td>\n",
       "    </tr>\n",
       "    <tr>\n",
       "      <th>488</th>\n",
       "      <td>MYCOPHENOLATE MOFETIL 250MG/ML SUSP</td>\n",
       "      <td>0.0000</td>\n",
       "    </tr>\n",
       "  </tbody>\n",
       "</table>\n",
       "<p>751 rows × 2 columns</p>\n",
       "</div>"
      ],
      "text/plain": [
       "                                DrugName  Mean_Sales\n",
       "553                        PEMBROLIZUMAB  39490.0000\n",
       "67                     BASILIXIMAB 20 MG  15910.4000\n",
       "551                  PEGASPARGASE 3750IU  10900.0000\n",
       "308       HUMAN GAMMA GLOBULIN 100ML INJ  10711.5368\n",
       "687                TENECTEPLASE 40MG INJ  10172.0000\n",
       "..                                   ...         ...\n",
       "314               HYDROCORTISONE 5MG TAB      0.0000\n",
       "321            IBANDRONIC ACID 150MG TAB      0.0000\n",
       "326   INFANT NUTRITIONAL PRODUCTS POWDER      0.0000\n",
       "477            MULTI VITAMINS 15ML DROPS      0.0000\n",
       "488  MYCOPHENOLATE MOFETIL 250MG/ML SUSP      0.0000\n",
       "\n",
       "[751 rows x 2 columns]"
      ]
     },
     "execution_count": 22,
     "metadata": {},
     "output_type": "execute_result"
    }
   ],
   "source": [
    "data.groupby('DrugName')['Final_Sales'].mean().to_frame('Mean_Sales').reset_index().sort_values('Mean_Sales',ascending=False)"
   ]
  },
  {
   "cell_type": "code",
   "execution_count": 39,
   "id": "271494cf-3e3b-4c7a-979f-149b9ad33ee9",
   "metadata": {},
   "outputs": [
    {
     "data": {
      "text/html": [
       "<div>\n",
       "<style scoped>\n",
       "    .dataframe tbody tr th:only-of-type {\n",
       "        vertical-align: middle;\n",
       "    }\n",
       "\n",
       "    .dataframe tbody tr th {\n",
       "        vertical-align: top;\n",
       "    }\n",
       "\n",
       "    .dataframe thead th {\n",
       "        text-align: right;\n",
       "    }\n",
       "</style>\n",
       "<table border=\"1\" class=\"dataframe\">\n",
       "  <thead>\n",
       "    <tr style=\"text-align: right;\">\n",
       "      <th></th>\n",
       "      <th>DrugName</th>\n",
       "      <th>Mean_Qty</th>\n",
       "    </tr>\n",
       "  </thead>\n",
       "  <tbody>\n",
       "    <tr>\n",
       "      <th>640</th>\n",
       "      <td>SEVOFLURANE 99.97%</td>\n",
       "      <td>42.607143</td>\n",
       "    </tr>\n",
       "    <tr>\n",
       "      <th>639</th>\n",
       "      <td>SEVOFLURANE</td>\n",
       "      <td>39.166667</td>\n",
       "    </tr>\n",
       "    <tr>\n",
       "      <th>435</th>\n",
       "      <td>MESNA 200MG INJ</td>\n",
       "      <td>26.500000</td>\n",
       "    </tr>\n",
       "    <tr>\n",
       "      <th>269</th>\n",
       "      <td>FOSPHENYTOIN 150MG</td>\n",
       "      <td>10.000000</td>\n",
       "    </tr>\n",
       "    <tr>\n",
       "      <th>109</th>\n",
       "      <td>CEFAZOLIN 250MG</td>\n",
       "      <td>10.000000</td>\n",
       "    </tr>\n",
       "    <tr>\n",
       "      <th>...</th>\n",
       "      <td>...</td>\n",
       "      <td>...</td>\n",
       "    </tr>\n",
       "    <tr>\n",
       "      <th>453</th>\n",
       "      <td>METOPROLOL 50MG TAB</td>\n",
       "      <td>0.000000</td>\n",
       "    </tr>\n",
       "    <tr>\n",
       "      <th>601</th>\n",
       "      <td>PRUCALOPRIDE 1MG</td>\n",
       "      <td>0.000000</td>\n",
       "    </tr>\n",
       "    <tr>\n",
       "      <th>192</th>\n",
       "      <td>DICYCLOMINE 10MG + SIMETHICONE 40MG 10ML DROPS</td>\n",
       "      <td>0.000000</td>\n",
       "    </tr>\n",
       "    <tr>\n",
       "      <th>512</th>\n",
       "      <td>OLANZAPINE 5MG</td>\n",
       "      <td>0.000000</td>\n",
       "    </tr>\n",
       "    <tr>\n",
       "      <th>477</th>\n",
       "      <td>MULTI VITAMINS 15ML DROPS</td>\n",
       "      <td>0.000000</td>\n",
       "    </tr>\n",
       "  </tbody>\n",
       "</table>\n",
       "<p>751 rows × 2 columns</p>\n",
       "</div>"
      ],
      "text/plain": [
       "                                           DrugName   Mean_Qty\n",
       "640                              SEVOFLURANE 99.97%  42.607143\n",
       "639                                     SEVOFLURANE  39.166667\n",
       "435                                 MESNA 200MG INJ  26.500000\n",
       "269                              FOSPHENYTOIN 150MG  10.000000\n",
       "109                                 CEFAZOLIN 250MG  10.000000\n",
       "..                                              ...        ...\n",
       "453                             METOPROLOL 50MG TAB   0.000000\n",
       "601                                PRUCALOPRIDE 1MG   0.000000\n",
       "192  DICYCLOMINE 10MG + SIMETHICONE 40MG 10ML DROPS   0.000000\n",
       "512                                  OLANZAPINE 5MG   0.000000\n",
       "477                       MULTI VITAMINS 15ML DROPS   0.000000\n",
       "\n",
       "[751 rows x 2 columns]"
      ]
     },
     "execution_count": 39,
     "metadata": {},
     "output_type": "execute_result"
    }
   ],
   "source": [
    "data.groupby('DrugName')['Quantity'].mean().to_frame('Mean_Qty').reset_index().sort_values('Mean_Qty',ascending=False)"
   ]
  },
  {
   "cell_type": "code",
   "execution_count": null,
   "id": "1f0c282f-3a19-404e-95b3-5656c1315d21",
   "metadata": {},
   "outputs": [],
   "source": [
    "#Mode"
   ]
  },
  {
   "cell_type": "code",
   "execution_count": 42,
   "id": "f5ee3c70-aaa8-4773-b0a0-45af6c970984",
   "metadata": {},
   "outputs": [
    {
     "data": {
      "text/plain": [
       "DrugName                                                                                                         Final_Sales\n",
       "PARACETAMOL 1GM IV INJ                                                                                           160.510        168\n",
       "PANTOPRAZOLE 40MG INJ                                                                                            51.058         141\n",
       "LIGNOCAINE HYDROCHLORIDE 2% INJ                                                                                  47.100         119\n",
       "SODIUM CHLORIDE IVF 100ML                                                                                        0.000          112\n",
       "PANTOPRAZOLE 40MG INJ                                                                                            49.984         100\n",
       "                                                                                                                               ... \n",
       "LEVODOPA 100MG + CARBIDOPA 25MG TAB                                                                              47.594           1\n",
       "                                                                                                                 48.400           1\n",
       "LEVOCETRIZINE 5MG + MONTELUKAST 10MG TAB                                                                         93.400           1\n",
       "LEVOCETIRIZINE 5MG                                                                                               76.100           1\n",
       "MECOBALAMIN 1000MCG + NIACINAMIDE 100MG+ PYRIDOXINE 100MG + THIAMINE 100MG + RIBOFLAVIN 5MG + PANTHENOL 5MG INJ  129.840          1\n",
       "Name: count, Length: 2351, dtype: int64"
      ]
     },
     "execution_count": 42,
     "metadata": {},
     "output_type": "execute_result"
    }
   ],
   "source": [
    "data.groupby('DrugName')['Final_Sales'].value_counts().sort_values(ascending = False)"
   ]
  },
  {
   "cell_type": "code",
   "execution_count": 49,
   "id": "1941bbb6-7c5b-4ac0-a45a-7ad81323c098",
   "metadata": {},
   "outputs": [
    {
     "data": {
      "text/plain": [
       "DrugName                           Quantity\n",
       "PANTOPRAZOLE 40MG INJ              1           250\n",
       "LIGNOCAINE HYDROCHLORIDE 2% INJ    1           234\n",
       "PARACETAMOL 1GM IV INJ             1           186\n",
       "SODIUM CHLORIDE 0.9%               1           186\n",
       "SODIUM CHLORIDE IVF 100ML          1           150\n",
       "                                              ... \n",
       "PAPAVERINE 30MG/ML                 2             1\n",
       "FORMOTEROL 20MCG + BUDESONIDE 1MG  2             1\n",
       "PARACETAMOL 1000MG TAB             0             1\n",
       "FORMOTEROL 20MCG + BUDESONIDE 1MG  1             1\n",
       "LINEZOLID 600MG INFUSION           2             1\n",
       "Name: count, Length: 1604, dtype: int64"
      ]
     },
     "execution_count": 49,
     "metadata": {},
     "output_type": "execute_result"
    }
   ],
   "source": [
    "data.groupby('DrugName')['Quantity'].value_counts().sort_values(ascending = False)"
   ]
  },
  {
   "cell_type": "code",
   "execution_count": null,
   "id": "666ac7a5-269e-4f3d-adef-40bf22d94ac7",
   "metadata": {},
   "outputs": [],
   "source": [
    "#Median"
   ]
  },
  {
   "cell_type": "code",
   "execution_count": 50,
   "id": "5394b44d-b1b6-481e-bb52-e178ba4ec316",
   "metadata": {},
   "outputs": [
    {
     "data": {
      "text/plain": [
       "86.424"
      ]
     },
     "execution_count": 50,
     "metadata": {},
     "output_type": "execute_result"
    }
   ],
   "source": [
    "data['Final_Sales'].median()"
   ]
  },
  {
   "cell_type": "code",
   "execution_count": 51,
   "id": "d6c35a92-631d-4199-adff-778646be0366",
   "metadata": {},
   "outputs": [
    {
     "data": {
      "text/html": [
       "<div>\n",
       "<style scoped>\n",
       "    .dataframe tbody tr th:only-of-type {\n",
       "        vertical-align: middle;\n",
       "    }\n",
       "\n",
       "    .dataframe tbody tr th {\n",
       "        vertical-align: top;\n",
       "    }\n",
       "\n",
       "    .dataframe thead th {\n",
       "        text-align: right;\n",
       "    }\n",
       "</style>\n",
       "<table border=\"1\" class=\"dataframe\">\n",
       "  <thead>\n",
       "    <tr style=\"text-align: right;\">\n",
       "      <th></th>\n",
       "      <th>DrugName</th>\n",
       "      <th>Median_Sales</th>\n",
       "    </tr>\n",
       "  </thead>\n",
       "  <tbody>\n",
       "    <tr>\n",
       "      <th>553</th>\n",
       "      <td>PEMBROLIZUMAB</td>\n",
       "      <td>39490.0</td>\n",
       "    </tr>\n",
       "    <tr>\n",
       "      <th>67</th>\n",
       "      <td>BASILIXIMAB 20 MG</td>\n",
       "      <td>15910.4</td>\n",
       "    </tr>\n",
       "    <tr>\n",
       "      <th>551</th>\n",
       "      <td>PEGASPARGASE 3750IU</td>\n",
       "      <td>10900.0</td>\n",
       "    </tr>\n",
       "    <tr>\n",
       "      <th>687</th>\n",
       "      <td>TENECTEPLASE 40MG INJ</td>\n",
       "      <td>10172.0</td>\n",
       "    </tr>\n",
       "    <tr>\n",
       "      <th>308</th>\n",
       "      <td>HUMAN GAMMA GLOBULIN 100ML INJ</td>\n",
       "      <td>9539.2</td>\n",
       "    </tr>\n",
       "    <tr>\n",
       "      <th>...</th>\n",
       "      <td>...</td>\n",
       "      <td>...</td>\n",
       "    </tr>\n",
       "    <tr>\n",
       "      <th>192</th>\n",
       "      <td>DICYCLOMINE 10MG + SIMETHICONE 40MG 10ML DROPS</td>\n",
       "      <td>0.0</td>\n",
       "    </tr>\n",
       "    <tr>\n",
       "      <th>546</th>\n",
       "      <td>PARACETAMOL 500MG + CAFFINE 25MG</td>\n",
       "      <td>0.0</td>\n",
       "    </tr>\n",
       "    <tr>\n",
       "      <th>545</th>\n",
       "      <td>PARACETAMOL 325MG + CHLORZOXAZONE 500MG + DICL...</td>\n",
       "      <td>0.0</td>\n",
       "    </tr>\n",
       "    <tr>\n",
       "      <th>205</th>\n",
       "      <td>DORZOLAMIDE 2%W/V + TIMOLOL 0.5%W/V EYE DROPS</td>\n",
       "      <td>0.0</td>\n",
       "    </tr>\n",
       "    <tr>\n",
       "      <th>210</th>\n",
       "      <td>DOXYLAMINE 10MG + PYRIDOXINE 10MG TAB</td>\n",
       "      <td>0.0</td>\n",
       "    </tr>\n",
       "  </tbody>\n",
       "</table>\n",
       "<p>751 rows × 2 columns</p>\n",
       "</div>"
      ],
      "text/plain": [
       "                                              DrugName  Median_Sales\n",
       "553                                      PEMBROLIZUMAB       39490.0\n",
       "67                                   BASILIXIMAB 20 MG       15910.4\n",
       "551                                PEGASPARGASE 3750IU       10900.0\n",
       "687                              TENECTEPLASE 40MG INJ       10172.0\n",
       "308                     HUMAN GAMMA GLOBULIN 100ML INJ        9539.2\n",
       "..                                                 ...           ...\n",
       "192     DICYCLOMINE 10MG + SIMETHICONE 40MG 10ML DROPS           0.0\n",
       "546                   PARACETAMOL 500MG + CAFFINE 25MG           0.0\n",
       "545  PARACETAMOL 325MG + CHLORZOXAZONE 500MG + DICL...           0.0\n",
       "205      DORZOLAMIDE 2%W/V + TIMOLOL 0.5%W/V EYE DROPS           0.0\n",
       "210              DOXYLAMINE 10MG + PYRIDOXINE 10MG TAB           0.0\n",
       "\n",
       "[751 rows x 2 columns]"
      ]
     },
     "execution_count": 51,
     "metadata": {},
     "output_type": "execute_result"
    }
   ],
   "source": [
    "data.groupby('DrugName')['Final_Sales'].median().to_frame('Median_Sales').reset_index().sort_values('Median_Sales',ascending=False)"
   ]
  },
  {
   "cell_type": "code",
   "execution_count": 56,
   "id": "d474ad4b-044d-453a-aaaa-6cc57171cc34",
   "metadata": {},
   "outputs": [
    {
     "data": {
      "text/html": [
       "<div>\n",
       "<style scoped>\n",
       "    .dataframe tbody tr th:only-of-type {\n",
       "        vertical-align: middle;\n",
       "    }\n",
       "\n",
       "    .dataframe tbody tr th {\n",
       "        vertical-align: top;\n",
       "    }\n",
       "\n",
       "    .dataframe thead th {\n",
       "        text-align: right;\n",
       "    }\n",
       "</style>\n",
       "<table border=\"1\" class=\"dataframe\">\n",
       "  <thead>\n",
       "    <tr style=\"text-align: right;\">\n",
       "      <th></th>\n",
       "      <th>SubCat</th>\n",
       "      <th>SubCat1</th>\n",
       "      <th>Median_Sales</th>\n",
       "    </tr>\n",
       "  </thead>\n",
       "  <tbody>\n",
       "    <tr>\n",
       "      <th>49</th>\n",
       "      <td>POWDER</td>\n",
       "      <td>CARDIOVASCULAR &amp; HEMATOPOIETIC SYSTEM</td>\n",
       "      <td>2030.000</td>\n",
       "    </tr>\n",
       "    <tr>\n",
       "      <th>29</th>\n",
       "      <td>LIQUIDS &amp; SOLUTIONS</td>\n",
       "      <td>ANAESTHETICS</td>\n",
       "      <td>1827.972</td>\n",
       "    </tr>\n",
       "    <tr>\n",
       "      <th>19</th>\n",
       "      <td>INJECTIONS</td>\n",
       "      <td>MISCELLANEOUS</td>\n",
       "      <td>440.000</td>\n",
       "    </tr>\n",
       "    <tr>\n",
       "      <th>10</th>\n",
       "      <td>INJECTIONS</td>\n",
       "      <td>CARDIIVASCULAR&amp;HEMATOPOIETIC SYSTEM</td>\n",
       "      <td>325.000</td>\n",
       "    </tr>\n",
       "    <tr>\n",
       "      <th>8</th>\n",
       "      <td>INJECTIONS</td>\n",
       "      <td>ANTI-INFECTIVES</td>\n",
       "      <td>297.188</td>\n",
       "    </tr>\n",
       "    <tr>\n",
       "      <th>...</th>\n",
       "      <td>...</td>\n",
       "      <td>...</td>\n",
       "      <td>...</td>\n",
       "    </tr>\n",
       "    <tr>\n",
       "      <th>77</th>\n",
       "      <td>TABLETS &amp; CAPSULES</td>\n",
       "      <td>HORMONES</td>\n",
       "      <td>44.380</td>\n",
       "    </tr>\n",
       "    <tr>\n",
       "      <th>47</th>\n",
       "      <td>PESSARIES &amp; SUPPOSITORIES</td>\n",
       "      <td>CENTRAL NERVOUS SYSTEM</td>\n",
       "      <td>43.020</td>\n",
       "    </tr>\n",
       "    <tr>\n",
       "      <th>17</th>\n",
       "      <td>INJECTIONS</td>\n",
       "      <td>IMMUNOLOGY</td>\n",
       "      <td>41.077</td>\n",
       "    </tr>\n",
       "    <tr>\n",
       "      <th>1</th>\n",
       "      <td>DROPS</td>\n",
       "      <td>GASTROINTESTINAL &amp; HEPATOBILIARY SYSTEM</td>\n",
       "      <td>0.000</td>\n",
       "    </tr>\n",
       "    <tr>\n",
       "      <th>51</th>\n",
       "      <td>POWDER</td>\n",
       "      <td>ENDOCRINE &amp; METABOLIC SYSTEM</td>\n",
       "      <td>0.000</td>\n",
       "    </tr>\n",
       "  </tbody>\n",
       "</table>\n",
       "<p>85 rows × 3 columns</p>\n",
       "</div>"
      ],
      "text/plain": [
       "                       SubCat                                  SubCat1  \\\n",
       "49                     POWDER    CARDIOVASCULAR & HEMATOPOIETIC SYSTEM   \n",
       "29        LIQUIDS & SOLUTIONS                             ANAESTHETICS   \n",
       "19                 INJECTIONS                            MISCELLANEOUS   \n",
       "10                 INJECTIONS      CARDIIVASCULAR&HEMATOPOIETIC SYSTEM   \n",
       "8                  INJECTIONS                          ANTI-INFECTIVES   \n",
       "..                        ...                                      ...   \n",
       "77         TABLETS & CAPSULES                                 HORMONES   \n",
       "47  PESSARIES & SUPPOSITORIES                   CENTRAL NERVOUS SYSTEM   \n",
       "17                 INJECTIONS                               IMMUNOLOGY   \n",
       "1                       DROPS  GASTROINTESTINAL & HEPATOBILIARY SYSTEM   \n",
       "51                     POWDER             ENDOCRINE & METABOLIC SYSTEM   \n",
       "\n",
       "    Median_Sales  \n",
       "49      2030.000  \n",
       "29      1827.972  \n",
       "19       440.000  \n",
       "10       325.000  \n",
       "8        297.188  \n",
       "..           ...  \n",
       "77        44.380  \n",
       "47        43.020  \n",
       "17        41.077  \n",
       "1          0.000  \n",
       "51         0.000  \n",
       "\n",
       "[85 rows x 3 columns]"
      ]
     },
     "execution_count": 56,
     "metadata": {},
     "output_type": "execute_result"
    }
   ],
   "source": [
    "data.groupby(['SubCat','SubCat1'])['Final_Sales'].median().to_frame('Median_Sales').reset_index().sort_values('Median_Sales',ascending=False)"
   ]
  },
  {
   "cell_type": "code",
   "execution_count": 57,
   "id": "b0784a24-ceef-4000-b10e-555d3c4cb445",
   "metadata": {
    "scrolled": true
   },
   "outputs": [
    {
     "data": {
      "text/html": [
       "<div>\n",
       "<style scoped>\n",
       "    .dataframe tbody tr th:only-of-type {\n",
       "        vertical-align: middle;\n",
       "    }\n",
       "\n",
       "    .dataframe tbody tr th {\n",
       "        vertical-align: top;\n",
       "    }\n",
       "\n",
       "    .dataframe thead th {\n",
       "        text-align: right;\n",
       "    }\n",
       "</style>\n",
       "<table border=\"1\" class=\"dataframe\">\n",
       "  <thead>\n",
       "    <tr style=\"text-align: right;\">\n",
       "      <th></th>\n",
       "      <th>DrugName</th>\n",
       "      <th>Median_qty</th>\n",
       "    </tr>\n",
       "  </thead>\n",
       "  <tbody>\n",
       "    <tr>\n",
       "      <th>640</th>\n",
       "      <td>SEVOFLURANE 99.97%</td>\n",
       "      <td>39.5</td>\n",
       "    </tr>\n",
       "    <tr>\n",
       "      <th>639</th>\n",
       "      <td>SEVOFLURANE</td>\n",
       "      <td>39.0</td>\n",
       "    </tr>\n",
       "    <tr>\n",
       "      <th>435</th>\n",
       "      <td>MESNA 200MG INJ</td>\n",
       "      <td>27.5</td>\n",
       "    </tr>\n",
       "    <tr>\n",
       "      <th>358</th>\n",
       "      <td>L-ARGININE 5GM POWDER</td>\n",
       "      <td>10.0</td>\n",
       "    </tr>\n",
       "    <tr>\n",
       "      <th>109</th>\n",
       "      <td>CEFAZOLIN 250MG</td>\n",
       "      <td>10.0</td>\n",
       "    </tr>\n",
       "    <tr>\n",
       "      <th>...</th>\n",
       "      <td>...</td>\n",
       "      <td>...</td>\n",
       "    </tr>\n",
       "    <tr>\n",
       "      <th>453</th>\n",
       "      <td>METOPROLOL 50MG TAB</td>\n",
       "      <td>0.0</td>\n",
       "    </tr>\n",
       "    <tr>\n",
       "      <th>326</th>\n",
       "      <td>INFANT NUTRITIONAL PRODUCTS POWDER</td>\n",
       "      <td>0.0</td>\n",
       "    </tr>\n",
       "    <tr>\n",
       "      <th>51</th>\n",
       "      <td>ATENOLOL 25MG</td>\n",
       "      <td>0.0</td>\n",
       "    </tr>\n",
       "    <tr>\n",
       "      <th>703</th>\n",
       "      <td>TORASEMIDE 20MG</td>\n",
       "      <td>0.0</td>\n",
       "    </tr>\n",
       "    <tr>\n",
       "      <th>392</th>\n",
       "      <td>LEVOSALBUTAMOL 50MCG + IPRATROPIUM BROMIDE 20M...</td>\n",
       "      <td>0.0</td>\n",
       "    </tr>\n",
       "  </tbody>\n",
       "</table>\n",
       "<p>751 rows × 2 columns</p>\n",
       "</div>"
      ],
      "text/plain": [
       "                                              DrugName  Median_qty\n",
       "640                                 SEVOFLURANE 99.97%        39.5\n",
       "639                                        SEVOFLURANE        39.0\n",
       "435                                    MESNA 200MG INJ        27.5\n",
       "358                              L-ARGININE 5GM POWDER        10.0\n",
       "109                                    CEFAZOLIN 250MG        10.0\n",
       "..                                                 ...         ...\n",
       "453                                METOPROLOL 50MG TAB         0.0\n",
       "326                 INFANT NUTRITIONAL PRODUCTS POWDER         0.0\n",
       "51                                       ATENOLOL 25MG         0.0\n",
       "703                                    TORASEMIDE 20MG         0.0\n",
       "392  LEVOSALBUTAMOL 50MCG + IPRATROPIUM BROMIDE 20M...         0.0\n",
       "\n",
       "[751 rows x 2 columns]"
      ]
     },
     "execution_count": 57,
     "metadata": {},
     "output_type": "execute_result"
    }
   ],
   "source": [
    "data.groupby('DrugName')['Quantity'].median().to_frame('Median_qty').reset_index().sort_values('Median_qty',ascending=False)"
   ]
  },
  {
   "cell_type": "code",
   "execution_count": null,
   "id": "81239338-f49e-41a9-86c7-1035f1af892b",
   "metadata": {},
   "outputs": [],
   "source": [
    "#Variance"
   ]
  },
  {
   "cell_type": "code",
   "execution_count": 59,
   "id": "4902b25e-67bc-4d40-bbd4-08b1c5563722",
   "metadata": {},
   "outputs": [
    {
     "data": {
      "text/plain": [
       "450592.0976656481"
      ]
     },
     "execution_count": 59,
     "metadata": {},
     "output_type": "execute_result"
    }
   ],
   "source": [
    "data['Final_Sales'].var()"
   ]
  },
  {
   "cell_type": "code",
   "execution_count": 64,
   "id": "57208afa-c00a-4e9e-b902-959368934a81",
   "metadata": {},
   "outputs": [
    {
     "data": {
      "text/html": [
       "<div>\n",
       "<style scoped>\n",
       "    .dataframe tbody tr th:only-of-type {\n",
       "        vertical-align: middle;\n",
       "    }\n",
       "\n",
       "    .dataframe tbody tr th {\n",
       "        vertical-align: top;\n",
       "    }\n",
       "\n",
       "    .dataframe thead th {\n",
       "        text-align: right;\n",
       "    }\n",
       "</style>\n",
       "<table border=\"1\" class=\"dataframe\">\n",
       "  <thead>\n",
       "    <tr style=\"text-align: right;\">\n",
       "      <th></th>\n",
       "      <th>DrugName</th>\n",
       "      <th>SubCat</th>\n",
       "      <th>VarianceOfSales</th>\n",
       "    </tr>\n",
       "  </thead>\n",
       "  <tbody>\n",
       "    <tr>\n",
       "      <th>760</th>\n",
       "      <td>ZOLPIDEM 5MG TAB</td>\n",
       "      <td>TABLETS &amp; CAPSULES</td>\n",
       "      <td>0.0</td>\n",
       "    </tr>\n",
       "    <tr>\n",
       "      <th>158</th>\n",
       "      <td>COLISTIMETHATE SODIUM 1MIU</td>\n",
       "      <td>INJECTIONS</td>\n",
       "      <td>0.0</td>\n",
       "    </tr>\n",
       "    <tr>\n",
       "      <th>367</th>\n",
       "      <td>LACOSAMIDE 20ML INJ</td>\n",
       "      <td>INJECTIONS</td>\n",
       "      <td>0.0</td>\n",
       "    </tr>\n",
       "    <tr>\n",
       "      <th>384</th>\n",
       "      <td>LEVO-CARNITINE 500MG/5ML SYP</td>\n",
       "      <td>SYRUP &amp; SUSPENSION</td>\n",
       "      <td>0.0</td>\n",
       "    </tr>\n",
       "    <tr>\n",
       "      <th>145</th>\n",
       "      <td>CLOBAZAM 10MG</td>\n",
       "      <td>TABLETS &amp; CAPSULES</td>\n",
       "      <td>0.0</td>\n",
       "    </tr>\n",
       "    <tr>\n",
       "      <th>...</th>\n",
       "      <td>...</td>\n",
       "      <td>...</td>\n",
       "      <td>...</td>\n",
       "    </tr>\n",
       "    <tr>\n",
       "      <th>747</th>\n",
       "      <td>VITAMIN C 5 ML INJ</td>\n",
       "      <td>INJECTIONS</td>\n",
       "      <td>NaN</td>\n",
       "    </tr>\n",
       "    <tr>\n",
       "      <th>750</th>\n",
       "      <td>VOGLIBOSE 0.3MG TAB</td>\n",
       "      <td>TABLETS &amp; CAPSULES</td>\n",
       "      <td>NaN</td>\n",
       "    </tr>\n",
       "    <tr>\n",
       "      <th>751</th>\n",
       "      <td>VORICONAZOLE 200MG INJ</td>\n",
       "      <td>INJECTIONS</td>\n",
       "      <td>NaN</td>\n",
       "    </tr>\n",
       "    <tr>\n",
       "      <th>752</th>\n",
       "      <td>VORICONAZOLE 200MG TAB</td>\n",
       "      <td>TABLETS &amp; CAPSULES</td>\n",
       "      <td>NaN</td>\n",
       "    </tr>\n",
       "    <tr>\n",
       "      <th>756</th>\n",
       "      <td>ZINC ACETATE 20MG/5ML SYP</td>\n",
       "      <td>SYRUP &amp; SUSPENSION</td>\n",
       "      <td>NaN</td>\n",
       "    </tr>\n",
       "  </tbody>\n",
       "</table>\n",
       "<p>761 rows × 3 columns</p>\n",
       "</div>"
      ],
      "text/plain": [
       "                         DrugName              SubCat  VarianceOfSales\n",
       "760              ZOLPIDEM 5MG TAB  TABLETS & CAPSULES              0.0\n",
       "158    COLISTIMETHATE SODIUM 1MIU          INJECTIONS              0.0\n",
       "367           LACOSAMIDE 20ML INJ          INJECTIONS              0.0\n",
       "384  LEVO-CARNITINE 500MG/5ML SYP  SYRUP & SUSPENSION              0.0\n",
       "145                 CLOBAZAM 10MG  TABLETS & CAPSULES              0.0\n",
       "..                            ...                 ...              ...\n",
       "747            VITAMIN C 5 ML INJ          INJECTIONS              NaN\n",
       "750           VOGLIBOSE 0.3MG TAB  TABLETS & CAPSULES              NaN\n",
       "751        VORICONAZOLE 200MG INJ          INJECTIONS              NaN\n",
       "752        VORICONAZOLE 200MG TAB  TABLETS & CAPSULES              NaN\n",
       "756     ZINC ACETATE 20MG/5ML SYP  SYRUP & SUSPENSION              NaN\n",
       "\n",
       "[761 rows x 3 columns]"
      ]
     },
     "execution_count": 64,
     "metadata": {},
     "output_type": "execute_result"
    }
   ],
   "source": [
    "data.groupby(['DrugName','SubCat'])['Final_Sales'].var().to_frame('VarianceOfSales').reset_index().sort_values('VarianceOfSales')"
   ]
  },
  {
   "cell_type": "code",
   "execution_count": 65,
   "id": "1dea7f5b-1cd0-47e4-9056-a0f81ade889e",
   "metadata": {},
   "outputs": [
    {
     "data": {
      "text/html": [
       "<div>\n",
       "<style scoped>\n",
       "    .dataframe tbody tr th:only-of-type {\n",
       "        vertical-align: middle;\n",
       "    }\n",
       "\n",
       "    .dataframe tbody tr th {\n",
       "        vertical-align: top;\n",
       "    }\n",
       "\n",
       "    .dataframe thead th {\n",
       "        text-align: right;\n",
       "    }\n",
       "</style>\n",
       "<table border=\"1\" class=\"dataframe\">\n",
       "  <thead>\n",
       "    <tr style=\"text-align: right;\">\n",
       "      <th></th>\n",
       "      <th>DrugName</th>\n",
       "      <th>SubCat</th>\n",
       "      <th>VarianceOfSales</th>\n",
       "    </tr>\n",
       "  </thead>\n",
       "  <tbody>\n",
       "    <tr>\n",
       "      <th>312</th>\n",
       "      <td>HUMAN GAMMA GLOBULIN 100ML INJ</td>\n",
       "      <td>INJECTIONS</td>\n",
       "      <td>4.139179e+07</td>\n",
       "    </tr>\n",
       "    <tr>\n",
       "      <th>346</th>\n",
       "      <td>ISAVUCONAZOLE 200MG</td>\n",
       "      <td>INJECTIONS</td>\n",
       "      <td>1.057671e+07</td>\n",
       "    </tr>\n",
       "    <tr>\n",
       "      <th>410</th>\n",
       "      <td>LIPOSOMAL AMPHOTERICIN B 50MG INJ</td>\n",
       "      <td>INJECTIONS</td>\n",
       "      <td>5.633419e+06</td>\n",
       "    </tr>\n",
       "    <tr>\n",
       "      <th>109</th>\n",
       "      <td>CASPOFUNGIN 70MG</td>\n",
       "      <td>INJECTIONS</td>\n",
       "      <td>5.248800e+06</td>\n",
       "    </tr>\n",
       "    <tr>\n",
       "      <th>272</th>\n",
       "      <td>FOSFOMYCIN 4GM</td>\n",
       "      <td>INJECTIONS</td>\n",
       "      <td>4.059955e+06</td>\n",
       "    </tr>\n",
       "    <tr>\n",
       "      <th>...</th>\n",
       "      <td>...</td>\n",
       "      <td>...</td>\n",
       "      <td>...</td>\n",
       "    </tr>\n",
       "    <tr>\n",
       "      <th>747</th>\n",
       "      <td>VITAMIN C 5 ML INJ</td>\n",
       "      <td>INJECTIONS</td>\n",
       "      <td>NaN</td>\n",
       "    </tr>\n",
       "    <tr>\n",
       "      <th>750</th>\n",
       "      <td>VOGLIBOSE 0.3MG TAB</td>\n",
       "      <td>TABLETS &amp; CAPSULES</td>\n",
       "      <td>NaN</td>\n",
       "    </tr>\n",
       "    <tr>\n",
       "      <th>751</th>\n",
       "      <td>VORICONAZOLE 200MG INJ</td>\n",
       "      <td>INJECTIONS</td>\n",
       "      <td>NaN</td>\n",
       "    </tr>\n",
       "    <tr>\n",
       "      <th>752</th>\n",
       "      <td>VORICONAZOLE 200MG TAB</td>\n",
       "      <td>TABLETS &amp; CAPSULES</td>\n",
       "      <td>NaN</td>\n",
       "    </tr>\n",
       "    <tr>\n",
       "      <th>756</th>\n",
       "      <td>ZINC ACETATE 20MG/5ML SYP</td>\n",
       "      <td>SYRUP &amp; SUSPENSION</td>\n",
       "      <td>NaN</td>\n",
       "    </tr>\n",
       "  </tbody>\n",
       "</table>\n",
       "<p>761 rows × 3 columns</p>\n",
       "</div>"
      ],
      "text/plain": [
       "                              DrugName              SubCat  VarianceOfSales\n",
       "312     HUMAN GAMMA GLOBULIN 100ML INJ          INJECTIONS     4.139179e+07\n",
       "346                ISAVUCONAZOLE 200MG          INJECTIONS     1.057671e+07\n",
       "410  LIPOSOMAL AMPHOTERICIN B 50MG INJ          INJECTIONS     5.633419e+06\n",
       "109                   CASPOFUNGIN 70MG          INJECTIONS     5.248800e+06\n",
       "272                     FOSFOMYCIN 4GM          INJECTIONS     4.059955e+06\n",
       "..                                 ...                 ...              ...\n",
       "747                 VITAMIN C 5 ML INJ          INJECTIONS              NaN\n",
       "750                VOGLIBOSE 0.3MG TAB  TABLETS & CAPSULES              NaN\n",
       "751             VORICONAZOLE 200MG INJ          INJECTIONS              NaN\n",
       "752             VORICONAZOLE 200MG TAB  TABLETS & CAPSULES              NaN\n",
       "756          ZINC ACETATE 20MG/5ML SYP  SYRUP & SUSPENSION              NaN\n",
       "\n",
       "[761 rows x 3 columns]"
      ]
     },
     "execution_count": 65,
     "metadata": {},
     "output_type": "execute_result"
    }
   ],
   "source": [
    "data.groupby(['DrugName','SubCat'])['Final_Sales'].var().to_frame('VarianceOfSales').reset_index().sort_values('VarianceOfSales',ascending=False)"
   ]
  },
  {
   "cell_type": "code",
   "execution_count": 68,
   "id": "2edc9444-aa43-4c7e-8ede-2452530e2b5e",
   "metadata": {},
   "outputs": [
    {
     "data": {
      "text/html": [
       "<div>\n",
       "<style scoped>\n",
       "    .dataframe tbody tr th:only-of-type {\n",
       "        vertical-align: middle;\n",
       "    }\n",
       "\n",
       "    .dataframe tbody tr th {\n",
       "        vertical-align: top;\n",
       "    }\n",
       "\n",
       "    .dataframe thead th {\n",
       "        text-align: right;\n",
       "    }\n",
       "</style>\n",
       "<table border=\"1\" class=\"dataframe\">\n",
       "  <thead>\n",
       "    <tr style=\"text-align: right;\">\n",
       "      <th></th>\n",
       "      <th>DrugName</th>\n",
       "      <th>SubCat</th>\n",
       "      <th>VarianceOfQty</th>\n",
       "    </tr>\n",
       "  </thead>\n",
       "  <tbody>\n",
       "    <tr>\n",
       "      <th>0</th>\n",
       "      <td>ACEBROPHYLLINE 100MG CAP</td>\n",
       "      <td>TABLETS &amp; CAPSULES</td>\n",
       "      <td>0.0</td>\n",
       "    </tr>\n",
       "    <tr>\n",
       "      <th>339</th>\n",
       "      <td>INSULIN ISOPHANE 70% + HUMAN INSULIN 30% INJ</td>\n",
       "      <td>INJECTIONS</td>\n",
       "      <td>0.0</td>\n",
       "    </tr>\n",
       "    <tr>\n",
       "      <th>342</th>\n",
       "      <td>IRINOTECAN 100MG INJ</td>\n",
       "      <td>INJECTIONS</td>\n",
       "      <td>0.0</td>\n",
       "    </tr>\n",
       "    <tr>\n",
       "      <th>345</th>\n",
       "      <td>ISAVUCONAZOLE</td>\n",
       "      <td>TABLETS &amp; CAPSULES</td>\n",
       "      <td>0.0</td>\n",
       "    </tr>\n",
       "    <tr>\n",
       "      <th>350</th>\n",
       "      <td>ISOSORBIDE DINITRATE 5MG</td>\n",
       "      <td>TABLETS &amp; CAPSULES</td>\n",
       "      <td>0.0</td>\n",
       "    </tr>\n",
       "    <tr>\n",
       "      <th>...</th>\n",
       "      <td>...</td>\n",
       "      <td>...</td>\n",
       "      <td>...</td>\n",
       "    </tr>\n",
       "    <tr>\n",
       "      <th>747</th>\n",
       "      <td>VITAMIN C 5 ML INJ</td>\n",
       "      <td>INJECTIONS</td>\n",
       "      <td>NaN</td>\n",
       "    </tr>\n",
       "    <tr>\n",
       "      <th>750</th>\n",
       "      <td>VOGLIBOSE 0.3MG TAB</td>\n",
       "      <td>TABLETS &amp; CAPSULES</td>\n",
       "      <td>NaN</td>\n",
       "    </tr>\n",
       "    <tr>\n",
       "      <th>751</th>\n",
       "      <td>VORICONAZOLE 200MG INJ</td>\n",
       "      <td>INJECTIONS</td>\n",
       "      <td>NaN</td>\n",
       "    </tr>\n",
       "    <tr>\n",
       "      <th>752</th>\n",
       "      <td>VORICONAZOLE 200MG TAB</td>\n",
       "      <td>TABLETS &amp; CAPSULES</td>\n",
       "      <td>NaN</td>\n",
       "    </tr>\n",
       "    <tr>\n",
       "      <th>756</th>\n",
       "      <td>ZINC ACETATE 20MG/5ML SYP</td>\n",
       "      <td>SYRUP &amp; SUSPENSION</td>\n",
       "      <td>NaN</td>\n",
       "    </tr>\n",
       "  </tbody>\n",
       "</table>\n",
       "<p>761 rows × 3 columns</p>\n",
       "</div>"
      ],
      "text/plain": [
       "                                         DrugName              SubCat  \\\n",
       "0                        ACEBROPHYLLINE 100MG CAP  TABLETS & CAPSULES   \n",
       "339  INSULIN ISOPHANE 70% + HUMAN INSULIN 30% INJ          INJECTIONS   \n",
       "342                          IRINOTECAN 100MG INJ          INJECTIONS   \n",
       "345                                 ISAVUCONAZOLE  TABLETS & CAPSULES   \n",
       "350                      ISOSORBIDE DINITRATE 5MG  TABLETS & CAPSULES   \n",
       "..                                            ...                 ...   \n",
       "747                            VITAMIN C 5 ML INJ          INJECTIONS   \n",
       "750                           VOGLIBOSE 0.3MG TAB  TABLETS & CAPSULES   \n",
       "751                        VORICONAZOLE 200MG INJ          INJECTIONS   \n",
       "752                        VORICONAZOLE 200MG TAB  TABLETS & CAPSULES   \n",
       "756                     ZINC ACETATE 20MG/5ML SYP  SYRUP & SUSPENSION   \n",
       "\n",
       "     VarianceOfQty  \n",
       "0              0.0  \n",
       "339            0.0  \n",
       "342            0.0  \n",
       "345            0.0  \n",
       "350            0.0  \n",
       "..             ...  \n",
       "747            NaN  \n",
       "750            NaN  \n",
       "751            NaN  \n",
       "752            NaN  \n",
       "756            NaN  \n",
       "\n",
       "[761 rows x 3 columns]"
      ]
     },
     "execution_count": 68,
     "metadata": {},
     "output_type": "execute_result"
    }
   ],
   "source": [
    "data.groupby(['DrugName','SubCat'])['Quantity'].var().to_frame('VarianceOfQty').reset_index().sort_values('VarianceOfQty')"
   ]
  },
  {
   "cell_type": "code",
   "execution_count": null,
   "id": "0ddf2f1e-eae3-4c82-9aa0-7b4b5738741d",
   "metadata": {},
   "outputs": [],
   "source": [
    "#Standard Deviation"
   ]
  },
  {
   "cell_type": "code",
   "execution_count": 69,
   "id": "8e5fac23-21f0-492a-a028-92376e4c6e3d",
   "metadata": {},
   "outputs": [
    {
     "data": {
      "text/plain": [
       "671.2615717182447"
      ]
     },
     "execution_count": 69,
     "metadata": {},
     "output_type": "execute_result"
    }
   ],
   "source": [
    "data['Final_Sales'].std()"
   ]
  },
  {
   "cell_type": "code",
   "execution_count": 74,
   "id": "b5bdc1ce-c22c-4151-a1a2-d36600b827ca",
   "metadata": {},
   "outputs": [
    {
     "data": {
      "text/html": [
       "<div>\n",
       "<style scoped>\n",
       "    .dataframe tbody tr th:only-of-type {\n",
       "        vertical-align: middle;\n",
       "    }\n",
       "\n",
       "    .dataframe tbody tr th {\n",
       "        vertical-align: top;\n",
       "    }\n",
       "\n",
       "    .dataframe thead th {\n",
       "        text-align: right;\n",
       "    }\n",
       "</style>\n",
       "<table border=\"1\" class=\"dataframe\">\n",
       "  <thead>\n",
       "    <tr style=\"text-align: right;\">\n",
       "      <th></th>\n",
       "      <th>DrugName</th>\n",
       "      <th>SubCat</th>\n",
       "      <th>StdOfSales</th>\n",
       "    </tr>\n",
       "  </thead>\n",
       "  <tbody>\n",
       "    <tr>\n",
       "      <th>312</th>\n",
       "      <td>HUMAN GAMMA GLOBULIN 100ML INJ</td>\n",
       "      <td>INJECTIONS</td>\n",
       "      <td>6433.645172</td>\n",
       "    </tr>\n",
       "    <tr>\n",
       "      <th>346</th>\n",
       "      <td>ISAVUCONAZOLE 200MG</td>\n",
       "      <td>INJECTIONS</td>\n",
       "      <td>3252.184905</td>\n",
       "    </tr>\n",
       "    <tr>\n",
       "      <th>410</th>\n",
       "      <td>LIPOSOMAL AMPHOTERICIN B 50MG INJ</td>\n",
       "      <td>INJECTIONS</td>\n",
       "      <td>2373.482400</td>\n",
       "    </tr>\n",
       "    <tr>\n",
       "      <th>109</th>\n",
       "      <td>CASPOFUNGIN 70MG</td>\n",
       "      <td>INJECTIONS</td>\n",
       "      <td>2291.025971</td>\n",
       "    </tr>\n",
       "    <tr>\n",
       "      <th>272</th>\n",
       "      <td>FOSFOMYCIN 4GM</td>\n",
       "      <td>INJECTIONS</td>\n",
       "      <td>2014.933064</td>\n",
       "    </tr>\n",
       "    <tr>\n",
       "      <th>...</th>\n",
       "      <td>...</td>\n",
       "      <td>...</td>\n",
       "      <td>...</td>\n",
       "    </tr>\n",
       "    <tr>\n",
       "      <th>747</th>\n",
       "      <td>VITAMIN C 5 ML INJ</td>\n",
       "      <td>INJECTIONS</td>\n",
       "      <td>NaN</td>\n",
       "    </tr>\n",
       "    <tr>\n",
       "      <th>750</th>\n",
       "      <td>VOGLIBOSE 0.3MG TAB</td>\n",
       "      <td>TABLETS &amp; CAPSULES</td>\n",
       "      <td>NaN</td>\n",
       "    </tr>\n",
       "    <tr>\n",
       "      <th>751</th>\n",
       "      <td>VORICONAZOLE 200MG INJ</td>\n",
       "      <td>INJECTIONS</td>\n",
       "      <td>NaN</td>\n",
       "    </tr>\n",
       "    <tr>\n",
       "      <th>752</th>\n",
       "      <td>VORICONAZOLE 200MG TAB</td>\n",
       "      <td>TABLETS &amp; CAPSULES</td>\n",
       "      <td>NaN</td>\n",
       "    </tr>\n",
       "    <tr>\n",
       "      <th>756</th>\n",
       "      <td>ZINC ACETATE 20MG/5ML SYP</td>\n",
       "      <td>SYRUP &amp; SUSPENSION</td>\n",
       "      <td>NaN</td>\n",
       "    </tr>\n",
       "  </tbody>\n",
       "</table>\n",
       "<p>761 rows × 3 columns</p>\n",
       "</div>"
      ],
      "text/plain": [
       "                              DrugName              SubCat   StdOfSales\n",
       "312     HUMAN GAMMA GLOBULIN 100ML INJ          INJECTIONS  6433.645172\n",
       "346                ISAVUCONAZOLE 200MG          INJECTIONS  3252.184905\n",
       "410  LIPOSOMAL AMPHOTERICIN B 50MG INJ          INJECTIONS  2373.482400\n",
       "109                   CASPOFUNGIN 70MG          INJECTIONS  2291.025971\n",
       "272                     FOSFOMYCIN 4GM          INJECTIONS  2014.933064\n",
       "..                                 ...                 ...          ...\n",
       "747                 VITAMIN C 5 ML INJ          INJECTIONS          NaN\n",
       "750                VOGLIBOSE 0.3MG TAB  TABLETS & CAPSULES          NaN\n",
       "751             VORICONAZOLE 200MG INJ          INJECTIONS          NaN\n",
       "752             VORICONAZOLE 200MG TAB  TABLETS & CAPSULES          NaN\n",
       "756          ZINC ACETATE 20MG/5ML SYP  SYRUP & SUSPENSION          NaN\n",
       "\n",
       "[761 rows x 3 columns]"
      ]
     },
     "execution_count": 74,
     "metadata": {},
     "output_type": "execute_result"
    }
   ],
   "source": [
    "data.groupby(['DrugName','SubCat'])['Final_Sales'].std().to_frame('StdOfSales').reset_index().sort_values('StdOfSales',ascending= False)"
   ]
  },
  {
   "cell_type": "code",
   "execution_count": 75,
   "id": "9e4dab2f-1946-4056-b4c4-20c9107f60a6",
   "metadata": {},
   "outputs": [
    {
     "data": {
      "text/html": [
       "<div>\n",
       "<style scoped>\n",
       "    .dataframe tbody tr th:only-of-type {\n",
       "        vertical-align: middle;\n",
       "    }\n",
       "\n",
       "    .dataframe tbody tr th {\n",
       "        vertical-align: top;\n",
       "    }\n",
       "\n",
       "    .dataframe thead th {\n",
       "        text-align: right;\n",
       "    }\n",
       "</style>\n",
       "<table border=\"1\" class=\"dataframe\">\n",
       "  <thead>\n",
       "    <tr style=\"text-align: right;\">\n",
       "      <th></th>\n",
       "      <th>DrugName</th>\n",
       "      <th>SubCat</th>\n",
       "      <th>StdOfSales</th>\n",
       "    </tr>\n",
       "  </thead>\n",
       "  <tbody>\n",
       "    <tr>\n",
       "      <th>760</th>\n",
       "      <td>ZOLPIDEM 5MG TAB</td>\n",
       "      <td>TABLETS &amp; CAPSULES</td>\n",
       "      <td>0.0</td>\n",
       "    </tr>\n",
       "    <tr>\n",
       "      <th>158</th>\n",
       "      <td>COLISTIMETHATE SODIUM 1MIU</td>\n",
       "      <td>INJECTIONS</td>\n",
       "      <td>0.0</td>\n",
       "    </tr>\n",
       "    <tr>\n",
       "      <th>367</th>\n",
       "      <td>LACOSAMIDE 20ML INJ</td>\n",
       "      <td>INJECTIONS</td>\n",
       "      <td>0.0</td>\n",
       "    </tr>\n",
       "    <tr>\n",
       "      <th>384</th>\n",
       "      <td>LEVO-CARNITINE 500MG/5ML SYP</td>\n",
       "      <td>SYRUP &amp; SUSPENSION</td>\n",
       "      <td>0.0</td>\n",
       "    </tr>\n",
       "    <tr>\n",
       "      <th>145</th>\n",
       "      <td>CLOBAZAM 10MG</td>\n",
       "      <td>TABLETS &amp; CAPSULES</td>\n",
       "      <td>0.0</td>\n",
       "    </tr>\n",
       "    <tr>\n",
       "      <th>...</th>\n",
       "      <td>...</td>\n",
       "      <td>...</td>\n",
       "      <td>...</td>\n",
       "    </tr>\n",
       "    <tr>\n",
       "      <th>747</th>\n",
       "      <td>VITAMIN C 5 ML INJ</td>\n",
       "      <td>INJECTIONS</td>\n",
       "      <td>NaN</td>\n",
       "    </tr>\n",
       "    <tr>\n",
       "      <th>750</th>\n",
       "      <td>VOGLIBOSE 0.3MG TAB</td>\n",
       "      <td>TABLETS &amp; CAPSULES</td>\n",
       "      <td>NaN</td>\n",
       "    </tr>\n",
       "    <tr>\n",
       "      <th>751</th>\n",
       "      <td>VORICONAZOLE 200MG INJ</td>\n",
       "      <td>INJECTIONS</td>\n",
       "      <td>NaN</td>\n",
       "    </tr>\n",
       "    <tr>\n",
       "      <th>752</th>\n",
       "      <td>VORICONAZOLE 200MG TAB</td>\n",
       "      <td>TABLETS &amp; CAPSULES</td>\n",
       "      <td>NaN</td>\n",
       "    </tr>\n",
       "    <tr>\n",
       "      <th>756</th>\n",
       "      <td>ZINC ACETATE 20MG/5ML SYP</td>\n",
       "      <td>SYRUP &amp; SUSPENSION</td>\n",
       "      <td>NaN</td>\n",
       "    </tr>\n",
       "  </tbody>\n",
       "</table>\n",
       "<p>761 rows × 3 columns</p>\n",
       "</div>"
      ],
      "text/plain": [
       "                         DrugName              SubCat  StdOfSales\n",
       "760              ZOLPIDEM 5MG TAB  TABLETS & CAPSULES         0.0\n",
       "158    COLISTIMETHATE SODIUM 1MIU          INJECTIONS         0.0\n",
       "367           LACOSAMIDE 20ML INJ          INJECTIONS         0.0\n",
       "384  LEVO-CARNITINE 500MG/5ML SYP  SYRUP & SUSPENSION         0.0\n",
       "145                 CLOBAZAM 10MG  TABLETS & CAPSULES         0.0\n",
       "..                            ...                 ...         ...\n",
       "747            VITAMIN C 5 ML INJ          INJECTIONS         NaN\n",
       "750           VOGLIBOSE 0.3MG TAB  TABLETS & CAPSULES         NaN\n",
       "751        VORICONAZOLE 200MG INJ          INJECTIONS         NaN\n",
       "752        VORICONAZOLE 200MG TAB  TABLETS & CAPSULES         NaN\n",
       "756     ZINC ACETATE 20MG/5ML SYP  SYRUP & SUSPENSION         NaN\n",
       "\n",
       "[761 rows x 3 columns]"
      ]
     },
     "execution_count": 75,
     "metadata": {},
     "output_type": "execute_result"
    }
   ],
   "source": [
    "data.groupby(['DrugName','SubCat'])['Final_Sales'].std().to_frame('StdOfSales').reset_index().sort_values('StdOfSales')"
   ]
  },
  {
   "cell_type": "code",
   "execution_count": 77,
   "id": "fd4757b3-42cd-480b-8d85-bea5ea37402a",
   "metadata": {},
   "outputs": [
    {
     "data": {
      "text/html": [
       "<div>\n",
       "<style scoped>\n",
       "    .dataframe tbody tr th:only-of-type {\n",
       "        vertical-align: middle;\n",
       "    }\n",
       "\n",
       "    .dataframe tbody tr th {\n",
       "        vertical-align: top;\n",
       "    }\n",
       "\n",
       "    .dataframe thead th {\n",
       "        text-align: right;\n",
       "    }\n",
       "</style>\n",
       "<table border=\"1\" class=\"dataframe\">\n",
       "  <thead>\n",
       "    <tr style=\"text-align: right;\">\n",
       "      <th></th>\n",
       "      <th>DrugName</th>\n",
       "      <th>SubCat</th>\n",
       "      <th>StdOfQty</th>\n",
       "    </tr>\n",
       "  </thead>\n",
       "  <tbody>\n",
       "    <tr>\n",
       "      <th>646</th>\n",
       "      <td>SEVOFLURANE 99.97%</td>\n",
       "      <td>LIQUIDS &amp; SOLUTIONS</td>\n",
       "      <td>30.470799</td>\n",
       "    </tr>\n",
       "    <tr>\n",
       "      <th>645</th>\n",
       "      <td>SEVOFLURANE</td>\n",
       "      <td>LIQUIDS &amp; SOLUTIONS</td>\n",
       "      <td>27.001122</td>\n",
       "    </tr>\n",
       "    <tr>\n",
       "      <th>440</th>\n",
       "      <td>MESNA 200MG INJ</td>\n",
       "      <td>INJECTIONS</td>\n",
       "      <td>22.575798</td>\n",
       "    </tr>\n",
       "    <tr>\n",
       "      <th>497</th>\n",
       "      <td>N-ACETYLCYSTEINE 1000MG/5ML INJ</td>\n",
       "      <td>INJECTIONS</td>\n",
       "      <td>7.998276</td>\n",
       "    </tr>\n",
       "    <tr>\n",
       "      <th>516</th>\n",
       "      <td>OCTREOTIDE 100MCG 1ML INJ</td>\n",
       "      <td>INJECTIONS</td>\n",
       "      <td>7.906464</td>\n",
       "    </tr>\n",
       "    <tr>\n",
       "      <th>...</th>\n",
       "      <td>...</td>\n",
       "      <td>...</td>\n",
       "      <td>...</td>\n",
       "    </tr>\n",
       "    <tr>\n",
       "      <th>747</th>\n",
       "      <td>VITAMIN C 5 ML INJ</td>\n",
       "      <td>INJECTIONS</td>\n",
       "      <td>NaN</td>\n",
       "    </tr>\n",
       "    <tr>\n",
       "      <th>750</th>\n",
       "      <td>VOGLIBOSE 0.3MG TAB</td>\n",
       "      <td>TABLETS &amp; CAPSULES</td>\n",
       "      <td>NaN</td>\n",
       "    </tr>\n",
       "    <tr>\n",
       "      <th>751</th>\n",
       "      <td>VORICONAZOLE 200MG INJ</td>\n",
       "      <td>INJECTIONS</td>\n",
       "      <td>NaN</td>\n",
       "    </tr>\n",
       "    <tr>\n",
       "      <th>752</th>\n",
       "      <td>VORICONAZOLE 200MG TAB</td>\n",
       "      <td>TABLETS &amp; CAPSULES</td>\n",
       "      <td>NaN</td>\n",
       "    </tr>\n",
       "    <tr>\n",
       "      <th>756</th>\n",
       "      <td>ZINC ACETATE 20MG/5ML SYP</td>\n",
       "      <td>SYRUP &amp; SUSPENSION</td>\n",
       "      <td>NaN</td>\n",
       "    </tr>\n",
       "  </tbody>\n",
       "</table>\n",
       "<p>761 rows × 3 columns</p>\n",
       "</div>"
      ],
      "text/plain": [
       "                            DrugName               SubCat   StdOfQty\n",
       "646               SEVOFLURANE 99.97%  LIQUIDS & SOLUTIONS  30.470799\n",
       "645                      SEVOFLURANE  LIQUIDS & SOLUTIONS  27.001122\n",
       "440                  MESNA 200MG INJ           INJECTIONS  22.575798\n",
       "497  N-ACETYLCYSTEINE 1000MG/5ML INJ           INJECTIONS   7.998276\n",
       "516        OCTREOTIDE 100MCG 1ML INJ           INJECTIONS   7.906464\n",
       "..                               ...                  ...        ...\n",
       "747               VITAMIN C 5 ML INJ           INJECTIONS        NaN\n",
       "750              VOGLIBOSE 0.3MG TAB   TABLETS & CAPSULES        NaN\n",
       "751           VORICONAZOLE 200MG INJ           INJECTIONS        NaN\n",
       "752           VORICONAZOLE 200MG TAB   TABLETS & CAPSULES        NaN\n",
       "756        ZINC ACETATE 20MG/5ML SYP   SYRUP & SUSPENSION        NaN\n",
       "\n",
       "[761 rows x 3 columns]"
      ]
     },
     "execution_count": 77,
     "metadata": {},
     "output_type": "execute_result"
    }
   ],
   "source": [
    "data.groupby(['DrugName','SubCat'])['Quantity'].std().to_frame('StdOfQty').reset_index().sort_values('StdOfQty',ascending= False)"
   ]
  },
  {
   "cell_type": "code",
   "execution_count": 76,
   "id": "5a4e67d5-1e2c-4c37-b921-b15cce1424a4",
   "metadata": {},
   "outputs": [
    {
     "data": {
      "text/html": [
       "<div>\n",
       "<style scoped>\n",
       "    .dataframe tbody tr th:only-of-type {\n",
       "        vertical-align: middle;\n",
       "    }\n",
       "\n",
       "    .dataframe tbody tr th {\n",
       "        vertical-align: top;\n",
       "    }\n",
       "\n",
       "    .dataframe thead th {\n",
       "        text-align: right;\n",
       "    }\n",
       "</style>\n",
       "<table border=\"1\" class=\"dataframe\">\n",
       "  <thead>\n",
       "    <tr style=\"text-align: right;\">\n",
       "      <th></th>\n",
       "      <th>DrugName</th>\n",
       "      <th>SubCat</th>\n",
       "      <th>StdOfQty</th>\n",
       "    </tr>\n",
       "  </thead>\n",
       "  <tbody>\n",
       "    <tr>\n",
       "      <th>0</th>\n",
       "      <td>ACEBROPHYLLINE 100MG CAP</td>\n",
       "      <td>TABLETS &amp; CAPSULES</td>\n",
       "      <td>0.0</td>\n",
       "    </tr>\n",
       "    <tr>\n",
       "      <th>339</th>\n",
       "      <td>INSULIN ISOPHANE 70% + HUMAN INSULIN 30% INJ</td>\n",
       "      <td>INJECTIONS</td>\n",
       "      <td>0.0</td>\n",
       "    </tr>\n",
       "    <tr>\n",
       "      <th>342</th>\n",
       "      <td>IRINOTECAN 100MG INJ</td>\n",
       "      <td>INJECTIONS</td>\n",
       "      <td>0.0</td>\n",
       "    </tr>\n",
       "    <tr>\n",
       "      <th>345</th>\n",
       "      <td>ISAVUCONAZOLE</td>\n",
       "      <td>TABLETS &amp; CAPSULES</td>\n",
       "      <td>0.0</td>\n",
       "    </tr>\n",
       "    <tr>\n",
       "      <th>350</th>\n",
       "      <td>ISOSORBIDE DINITRATE 5MG</td>\n",
       "      <td>TABLETS &amp; CAPSULES</td>\n",
       "      <td>0.0</td>\n",
       "    </tr>\n",
       "    <tr>\n",
       "      <th>...</th>\n",
       "      <td>...</td>\n",
       "      <td>...</td>\n",
       "      <td>...</td>\n",
       "    </tr>\n",
       "    <tr>\n",
       "      <th>747</th>\n",
       "      <td>VITAMIN C 5 ML INJ</td>\n",
       "      <td>INJECTIONS</td>\n",
       "      <td>NaN</td>\n",
       "    </tr>\n",
       "    <tr>\n",
       "      <th>750</th>\n",
       "      <td>VOGLIBOSE 0.3MG TAB</td>\n",
       "      <td>TABLETS &amp; CAPSULES</td>\n",
       "      <td>NaN</td>\n",
       "    </tr>\n",
       "    <tr>\n",
       "      <th>751</th>\n",
       "      <td>VORICONAZOLE 200MG INJ</td>\n",
       "      <td>INJECTIONS</td>\n",
       "      <td>NaN</td>\n",
       "    </tr>\n",
       "    <tr>\n",
       "      <th>752</th>\n",
       "      <td>VORICONAZOLE 200MG TAB</td>\n",
       "      <td>TABLETS &amp; CAPSULES</td>\n",
       "      <td>NaN</td>\n",
       "    </tr>\n",
       "    <tr>\n",
       "      <th>756</th>\n",
       "      <td>ZINC ACETATE 20MG/5ML SYP</td>\n",
       "      <td>SYRUP &amp; SUSPENSION</td>\n",
       "      <td>NaN</td>\n",
       "    </tr>\n",
       "  </tbody>\n",
       "</table>\n",
       "<p>761 rows × 3 columns</p>\n",
       "</div>"
      ],
      "text/plain": [
       "                                         DrugName              SubCat  \\\n",
       "0                        ACEBROPHYLLINE 100MG CAP  TABLETS & CAPSULES   \n",
       "339  INSULIN ISOPHANE 70% + HUMAN INSULIN 30% INJ          INJECTIONS   \n",
       "342                          IRINOTECAN 100MG INJ          INJECTIONS   \n",
       "345                                 ISAVUCONAZOLE  TABLETS & CAPSULES   \n",
       "350                      ISOSORBIDE DINITRATE 5MG  TABLETS & CAPSULES   \n",
       "..                                            ...                 ...   \n",
       "747                            VITAMIN C 5 ML INJ          INJECTIONS   \n",
       "750                           VOGLIBOSE 0.3MG TAB  TABLETS & CAPSULES   \n",
       "751                        VORICONAZOLE 200MG INJ          INJECTIONS   \n",
       "752                        VORICONAZOLE 200MG TAB  TABLETS & CAPSULES   \n",
       "756                     ZINC ACETATE 20MG/5ML SYP  SYRUP & SUSPENSION   \n",
       "\n",
       "     StdOfQty  \n",
       "0         0.0  \n",
       "339       0.0  \n",
       "342       0.0  \n",
       "345       0.0  \n",
       "350       0.0  \n",
       "..        ...  \n",
       "747       NaN  \n",
       "750       NaN  \n",
       "751       NaN  \n",
       "752       NaN  \n",
       "756       NaN  \n",
       "\n",
       "[761 rows x 3 columns]"
      ]
     },
     "execution_count": 76,
     "metadata": {},
     "output_type": "execute_result"
    }
   ],
   "source": [
    "data.groupby(['DrugName','SubCat'])['Quantity'].std().to_frame('StdOfQty').reset_index().sort_values('StdOfQty')"
   ]
  },
  {
   "cell_type": "code",
   "execution_count": null,
   "id": "635fdbca-b371-414f-bdea-6948fae90ebe",
   "metadata": {},
   "outputs": [],
   "source": [
    "#Range"
   ]
  },
  {
   "cell_type": "code",
   "execution_count": 87,
   "id": "bebea54d-ff03-458f-aa57-cc154c9e213b",
   "metadata": {},
   "outputs": [
    {
     "data": {
      "text/html": [
       "<div>\n",
       "<style scoped>\n",
       "    .dataframe tbody tr th:only-of-type {\n",
       "        vertical-align: middle;\n",
       "    }\n",
       "\n",
       "    .dataframe tbody tr th {\n",
       "        vertical-align: top;\n",
       "    }\n",
       "\n",
       "    .dataframe thead th {\n",
       "        text-align: right;\n",
       "    }\n",
       "</style>\n",
       "<table border=\"1\" class=\"dataframe\">\n",
       "  <thead>\n",
       "    <tr style=\"text-align: right;\">\n",
       "      <th></th>\n",
       "      <th>Range</th>\n",
       "    </tr>\n",
       "    <tr>\n",
       "      <th>SubCat</th>\n",
       "      <th></th>\n",
       "    </tr>\n",
       "  </thead>\n",
       "  <tbody>\n",
       "    <tr>\n",
       "      <th>INJECTIONS</th>\n",
       "      <td>39490.000</td>\n",
       "    </tr>\n",
       "    <tr>\n",
       "      <th>LIQUIDS &amp; SOLUTIONS</th>\n",
       "      <td>6944.400</td>\n",
       "    </tr>\n",
       "    <tr>\n",
       "      <th>IV FLUIDS, ELECTROLYTES, TPN</th>\n",
       "      <td>5950.400</td>\n",
       "    </tr>\n",
       "    <tr>\n",
       "      <th>TABLETS &amp; CAPSULES</th>\n",
       "      <td>4353.862</td>\n",
       "    </tr>\n",
       "    <tr>\n",
       "      <th>POWDER</th>\n",
       "      <td>2030.000</td>\n",
       "    </tr>\n",
       "    <tr>\n",
       "      <th>INHALERS &amp; RESPULES</th>\n",
       "      <td>825.720</td>\n",
       "    </tr>\n",
       "    <tr>\n",
       "      <th>OINTMENTS, CREAMS &amp; GELS</th>\n",
       "      <td>475.400</td>\n",
       "    </tr>\n",
       "    <tr>\n",
       "      <th>NUTRITIONAL SUPPLEMENTS</th>\n",
       "      <td>386.200</td>\n",
       "    </tr>\n",
       "    <tr>\n",
       "      <th>SYRUP &amp; SUSPENSION</th>\n",
       "      <td>286.800</td>\n",
       "    </tr>\n",
       "    <tr>\n",
       "      <th>PATCH</th>\n",
       "      <td>232.000</td>\n",
       "    </tr>\n",
       "    <tr>\n",
       "      <th>SPRAY</th>\n",
       "      <td>229.760</td>\n",
       "    </tr>\n",
       "    <tr>\n",
       "      <th>PESSARIES &amp; SUPPOSITORIES</th>\n",
       "      <td>207.340</td>\n",
       "    </tr>\n",
       "    <tr>\n",
       "      <th>LOTIONS</th>\n",
       "      <td>138.200</td>\n",
       "    </tr>\n",
       "    <tr>\n",
       "      <th>VACCINE</th>\n",
       "      <td>86.826</td>\n",
       "    </tr>\n",
       "    <tr>\n",
       "      <th>DROPS</th>\n",
       "      <td>79.552</td>\n",
       "    </tr>\n",
       "    <tr>\n",
       "      <th>SOLUTION</th>\n",
       "      <td>4.500</td>\n",
       "    </tr>\n",
       "    <tr>\n",
       "      <th>SACHETS</th>\n",
       "      <td>0.000</td>\n",
       "    </tr>\n",
       "  </tbody>\n",
       "</table>\n",
       "</div>"
      ],
      "text/plain": [
       "                                  Range\n",
       "SubCat                                 \n",
       "INJECTIONS                    39490.000\n",
       "LIQUIDS & SOLUTIONS            6944.400\n",
       "IV FLUIDS, ELECTROLYTES, TPN   5950.400\n",
       "TABLETS & CAPSULES             4353.862\n",
       "POWDER                         2030.000\n",
       "INHALERS & RESPULES             825.720\n",
       "OINTMENTS, CREAMS & GELS        475.400\n",
       "NUTRITIONAL SUPPLEMENTS         386.200\n",
       "SYRUP & SUSPENSION              286.800\n",
       "PATCH                           232.000\n",
       "SPRAY                           229.760\n",
       "PESSARIES & SUPPOSITORIES       207.340\n",
       "LOTIONS                         138.200\n",
       "VACCINE                          86.826\n",
       "DROPS                            79.552\n",
       "SOLUTION                          4.500\n",
       "SACHETS                           0.000"
      ]
     },
     "execution_count": 87,
     "metadata": {},
     "output_type": "execute_result"
    }
   ],
   "source": [
    "data.groupby('SubCat')['Final_Sales'].agg(np.ptp).to_frame('Range').sort_values('Range',ascending= False)"
   ]
  },
  {
   "cell_type": "code",
   "execution_count": 88,
   "id": "0fe4ca2d-7ff8-45ac-b313-03590437171a",
   "metadata": {},
   "outputs": [
    {
     "data": {
      "text/html": [
       "<div>\n",
       "<style scoped>\n",
       "    .dataframe tbody tr th:only-of-type {\n",
       "        vertical-align: middle;\n",
       "    }\n",
       "\n",
       "    .dataframe tbody tr th {\n",
       "        vertical-align: top;\n",
       "    }\n",
       "\n",
       "    .dataframe thead th {\n",
       "        text-align: right;\n",
       "    }\n",
       "</style>\n",
       "<table border=\"1\" class=\"dataframe\">\n",
       "  <thead>\n",
       "    <tr style=\"text-align: right;\">\n",
       "      <th></th>\n",
       "      <th>Range</th>\n",
       "    </tr>\n",
       "    <tr>\n",
       "      <th>SubCat</th>\n",
       "      <th></th>\n",
       "    </tr>\n",
       "  </thead>\n",
       "  <tbody>\n",
       "    <tr>\n",
       "      <th>SACHETS</th>\n",
       "      <td>0.000</td>\n",
       "    </tr>\n",
       "    <tr>\n",
       "      <th>SOLUTION</th>\n",
       "      <td>4.500</td>\n",
       "    </tr>\n",
       "    <tr>\n",
       "      <th>DROPS</th>\n",
       "      <td>79.552</td>\n",
       "    </tr>\n",
       "    <tr>\n",
       "      <th>VACCINE</th>\n",
       "      <td>86.826</td>\n",
       "    </tr>\n",
       "    <tr>\n",
       "      <th>LOTIONS</th>\n",
       "      <td>138.200</td>\n",
       "    </tr>\n",
       "    <tr>\n",
       "      <th>PESSARIES &amp; SUPPOSITORIES</th>\n",
       "      <td>207.340</td>\n",
       "    </tr>\n",
       "    <tr>\n",
       "      <th>SPRAY</th>\n",
       "      <td>229.760</td>\n",
       "    </tr>\n",
       "    <tr>\n",
       "      <th>PATCH</th>\n",
       "      <td>232.000</td>\n",
       "    </tr>\n",
       "    <tr>\n",
       "      <th>SYRUP &amp; SUSPENSION</th>\n",
       "      <td>286.800</td>\n",
       "    </tr>\n",
       "    <tr>\n",
       "      <th>NUTRITIONAL SUPPLEMENTS</th>\n",
       "      <td>386.200</td>\n",
       "    </tr>\n",
       "    <tr>\n",
       "      <th>OINTMENTS, CREAMS &amp; GELS</th>\n",
       "      <td>475.400</td>\n",
       "    </tr>\n",
       "    <tr>\n",
       "      <th>INHALERS &amp; RESPULES</th>\n",
       "      <td>825.720</td>\n",
       "    </tr>\n",
       "    <tr>\n",
       "      <th>POWDER</th>\n",
       "      <td>2030.000</td>\n",
       "    </tr>\n",
       "    <tr>\n",
       "      <th>TABLETS &amp; CAPSULES</th>\n",
       "      <td>4353.862</td>\n",
       "    </tr>\n",
       "    <tr>\n",
       "      <th>IV FLUIDS, ELECTROLYTES, TPN</th>\n",
       "      <td>5950.400</td>\n",
       "    </tr>\n",
       "    <tr>\n",
       "      <th>LIQUIDS &amp; SOLUTIONS</th>\n",
       "      <td>6944.400</td>\n",
       "    </tr>\n",
       "    <tr>\n",
       "      <th>INJECTIONS</th>\n",
       "      <td>39490.000</td>\n",
       "    </tr>\n",
       "  </tbody>\n",
       "</table>\n",
       "</div>"
      ],
      "text/plain": [
       "                                  Range\n",
       "SubCat                                 \n",
       "SACHETS                           0.000\n",
       "SOLUTION                          4.500\n",
       "DROPS                            79.552\n",
       "VACCINE                          86.826\n",
       "LOTIONS                         138.200\n",
       "PESSARIES & SUPPOSITORIES       207.340\n",
       "SPRAY                           229.760\n",
       "PATCH                           232.000\n",
       "SYRUP & SUSPENSION              286.800\n",
       "NUTRITIONAL SUPPLEMENTS         386.200\n",
       "OINTMENTS, CREAMS & GELS        475.400\n",
       "INHALERS & RESPULES             825.720\n",
       "POWDER                         2030.000\n",
       "TABLETS & CAPSULES             4353.862\n",
       "IV FLUIDS, ELECTROLYTES, TPN   5950.400\n",
       "LIQUIDS & SOLUTIONS            6944.400\n",
       "INJECTIONS                    39490.000"
      ]
     },
     "execution_count": 88,
     "metadata": {},
     "output_type": "execute_result"
    }
   ],
   "source": [
    "data.groupby('SubCat')['Final_Sales'].agg(np.ptp).to_frame('Range').sort_values('Range')"
   ]
  },
  {
   "cell_type": "code",
   "execution_count": null,
   "id": "6f65a640-aa3d-4be9-a333-16fe20c66287",
   "metadata": {},
   "outputs": [],
   "source": [
    "#Skewness"
   ]
  },
  {
   "cell_type": "code",
   "execution_count": 89,
   "id": "9a82f9ea-5c26-4af5-89ca-ae62c7dc757f",
   "metadata": {},
   "outputs": [
    {
     "data": {
      "text/plain": [
       "21.006721582359116"
      ]
     },
     "execution_count": 89,
     "metadata": {},
     "output_type": "execute_result"
    }
   ],
   "source": [
    "data['Final_Sales'].skew()"
   ]
  },
  {
   "cell_type": "code",
   "execution_count": 90,
   "id": "827c20f1-95c4-4b2d-abe3-1abdfb25cc15",
   "metadata": {},
   "outputs": [
    {
     "data": {
      "text/html": [
       "<div>\n",
       "<style scoped>\n",
       "    .dataframe tbody tr th:only-of-type {\n",
       "        vertical-align: middle;\n",
       "    }\n",
       "\n",
       "    .dataframe tbody tr th {\n",
       "        vertical-align: top;\n",
       "    }\n",
       "\n",
       "    .dataframe thead th {\n",
       "        text-align: right;\n",
       "    }\n",
       "</style>\n",
       "<table border=\"1\" class=\"dataframe\">\n",
       "  <thead>\n",
       "    <tr style=\"text-align: right;\">\n",
       "      <th></th>\n",
       "      <th>DrugName</th>\n",
       "      <th>SubCat</th>\n",
       "      <th>SkewnessOfQty</th>\n",
       "    </tr>\n",
       "  </thead>\n",
       "  <tbody>\n",
       "    <tr>\n",
       "      <th>753</th>\n",
       "      <td>WATER FOR INJECTION 10ML SOLUTION</td>\n",
       "      <td>INJECTIONS</td>\n",
       "      <td>13.815646</td>\n",
       "    </tr>\n",
       "    <tr>\n",
       "      <th>602</th>\n",
       "      <td>PROPOFOL 1% 20ML INJ</td>\n",
       "      <td>INJECTIONS</td>\n",
       "      <td>8.344953</td>\n",
       "    </tr>\n",
       "    <tr>\n",
       "      <th>516</th>\n",
       "      <td>OCTREOTIDE 100MCG 1ML INJ</td>\n",
       "      <td>INJECTIONS</td>\n",
       "      <td>4.730848</td>\n",
       "    </tr>\n",
       "    <tr>\n",
       "      <th>463</th>\n",
       "      <td>MIDAZOLAM 10MG/10ML INJ</td>\n",
       "      <td>INJECTIONS</td>\n",
       "      <td>4.357807</td>\n",
       "    </tr>\n",
       "    <tr>\n",
       "      <th>749</th>\n",
       "      <td>VITAMIN K 1ML INJ</td>\n",
       "      <td>INJECTIONS</td>\n",
       "      <td>4.340716</td>\n",
       "    </tr>\n",
       "    <tr>\n",
       "      <th>...</th>\n",
       "      <td>...</td>\n",
       "      <td>...</td>\n",
       "      <td>...</td>\n",
       "    </tr>\n",
       "    <tr>\n",
       "      <th>748</th>\n",
       "      <td>VITAMIN C 500MG TAB</td>\n",
       "      <td>TABLETS &amp; CAPSULES</td>\n",
       "      <td>NaN</td>\n",
       "    </tr>\n",
       "    <tr>\n",
       "      <th>750</th>\n",
       "      <td>VOGLIBOSE 0.3MG TAB</td>\n",
       "      <td>TABLETS &amp; CAPSULES</td>\n",
       "      <td>NaN</td>\n",
       "    </tr>\n",
       "    <tr>\n",
       "      <th>751</th>\n",
       "      <td>VORICONAZOLE 200MG INJ</td>\n",
       "      <td>INJECTIONS</td>\n",
       "      <td>NaN</td>\n",
       "    </tr>\n",
       "    <tr>\n",
       "      <th>752</th>\n",
       "      <td>VORICONAZOLE 200MG TAB</td>\n",
       "      <td>TABLETS &amp; CAPSULES</td>\n",
       "      <td>NaN</td>\n",
       "    </tr>\n",
       "    <tr>\n",
       "      <th>756</th>\n",
       "      <td>ZINC ACETATE 20MG/5ML SYP</td>\n",
       "      <td>SYRUP &amp; SUSPENSION</td>\n",
       "      <td>NaN</td>\n",
       "    </tr>\n",
       "  </tbody>\n",
       "</table>\n",
       "<p>761 rows × 3 columns</p>\n",
       "</div>"
      ],
      "text/plain": [
       "                              DrugName              SubCat  SkewnessOfQty\n",
       "753  WATER FOR INJECTION 10ML SOLUTION          INJECTIONS      13.815646\n",
       "602               PROPOFOL 1% 20ML INJ          INJECTIONS       8.344953\n",
       "516          OCTREOTIDE 100MCG 1ML INJ          INJECTIONS       4.730848\n",
       "463            MIDAZOLAM 10MG/10ML INJ          INJECTIONS       4.357807\n",
       "749                  VITAMIN K 1ML INJ          INJECTIONS       4.340716\n",
       "..                                 ...                 ...            ...\n",
       "748                VITAMIN C 500MG TAB  TABLETS & CAPSULES            NaN\n",
       "750                VOGLIBOSE 0.3MG TAB  TABLETS & CAPSULES            NaN\n",
       "751             VORICONAZOLE 200MG INJ          INJECTIONS            NaN\n",
       "752             VORICONAZOLE 200MG TAB  TABLETS & CAPSULES            NaN\n",
       "756          ZINC ACETATE 20MG/5ML SYP  SYRUP & SUSPENSION            NaN\n",
       "\n",
       "[761 rows x 3 columns]"
      ]
     },
     "execution_count": 90,
     "metadata": {},
     "output_type": "execute_result"
    }
   ],
   "source": [
    "data.groupby(['DrugName','SubCat'])['Quantity'].skew().to_frame('SkewnessOfQty').reset_index().sort_values('SkewnessOfQty',ascending= False)"
   ]
  },
  {
   "cell_type": "code",
   "execution_count": 91,
   "id": "d94bbb2f-0265-4511-a6d2-3d8ebb6d043b",
   "metadata": {},
   "outputs": [
    {
     "data": {
      "text/html": [
       "<div>\n",
       "<style scoped>\n",
       "    .dataframe tbody tr th:only-of-type {\n",
       "        vertical-align: middle;\n",
       "    }\n",
       "\n",
       "    .dataframe tbody tr th {\n",
       "        vertical-align: top;\n",
       "    }\n",
       "\n",
       "    .dataframe thead th {\n",
       "        text-align: right;\n",
       "    }\n",
       "</style>\n",
       "<table border=\"1\" class=\"dataframe\">\n",
       "  <thead>\n",
       "    <tr style=\"text-align: right;\">\n",
       "      <th></th>\n",
       "      <th>DrugName</th>\n",
       "      <th>SubCat</th>\n",
       "      <th>SkewnessOfQty</th>\n",
       "    </tr>\n",
       "  </thead>\n",
       "  <tbody>\n",
       "    <tr>\n",
       "      <th>403</th>\n",
       "      <td>LIGNOCAINE HYDROCHLORIDE 2% INJ</td>\n",
       "      <td>INJECTIONS</td>\n",
       "      <td>-6.480741</td>\n",
       "    </tr>\n",
       "    <tr>\n",
       "      <th>401</th>\n",
       "      <td>LIDOCAINE/LIGNOCAINE (2%) INJ</td>\n",
       "      <td>INJECTIONS</td>\n",
       "      <td>-5.830952</td>\n",
       "    </tr>\n",
       "    <tr>\n",
       "      <th>554</th>\n",
       "      <td>PARACETAMOL 650MG TAB</td>\n",
       "      <td>TABLETS &amp; CAPSULES</td>\n",
       "      <td>-5.744563</td>\n",
       "    </tr>\n",
       "    <tr>\n",
       "      <th>413</th>\n",
       "      <td>LIQUID PARAFFIN + MILK OF MAGNESIA</td>\n",
       "      <td>SYRUP &amp; SUSPENSION</td>\n",
       "      <td>-5.567764</td>\n",
       "    </tr>\n",
       "    <tr>\n",
       "      <th>107</th>\n",
       "      <td>CARVEDILOL 3.125MG</td>\n",
       "      <td>TABLETS &amp; CAPSULES</td>\n",
       "      <td>-4.582576</td>\n",
       "    </tr>\n",
       "    <tr>\n",
       "      <th>...</th>\n",
       "      <td>...</td>\n",
       "      <td>...</td>\n",
       "      <td>...</td>\n",
       "    </tr>\n",
       "    <tr>\n",
       "      <th>748</th>\n",
       "      <td>VITAMIN C 500MG TAB</td>\n",
       "      <td>TABLETS &amp; CAPSULES</td>\n",
       "      <td>NaN</td>\n",
       "    </tr>\n",
       "    <tr>\n",
       "      <th>750</th>\n",
       "      <td>VOGLIBOSE 0.3MG TAB</td>\n",
       "      <td>TABLETS &amp; CAPSULES</td>\n",
       "      <td>NaN</td>\n",
       "    </tr>\n",
       "    <tr>\n",
       "      <th>751</th>\n",
       "      <td>VORICONAZOLE 200MG INJ</td>\n",
       "      <td>INJECTIONS</td>\n",
       "      <td>NaN</td>\n",
       "    </tr>\n",
       "    <tr>\n",
       "      <th>752</th>\n",
       "      <td>VORICONAZOLE 200MG TAB</td>\n",
       "      <td>TABLETS &amp; CAPSULES</td>\n",
       "      <td>NaN</td>\n",
       "    </tr>\n",
       "    <tr>\n",
       "      <th>756</th>\n",
       "      <td>ZINC ACETATE 20MG/5ML SYP</td>\n",
       "      <td>SYRUP &amp; SUSPENSION</td>\n",
       "      <td>NaN</td>\n",
       "    </tr>\n",
       "  </tbody>\n",
       "</table>\n",
       "<p>761 rows × 3 columns</p>\n",
       "</div>"
      ],
      "text/plain": [
       "                               DrugName              SubCat  SkewnessOfQty\n",
       "403     LIGNOCAINE HYDROCHLORIDE 2% INJ          INJECTIONS      -6.480741\n",
       "401       LIDOCAINE/LIGNOCAINE (2%) INJ          INJECTIONS      -5.830952\n",
       "554               PARACETAMOL 650MG TAB  TABLETS & CAPSULES      -5.744563\n",
       "413  LIQUID PARAFFIN + MILK OF MAGNESIA  SYRUP & SUSPENSION      -5.567764\n",
       "107                  CARVEDILOL 3.125MG  TABLETS & CAPSULES      -4.582576\n",
       "..                                  ...                 ...            ...\n",
       "748                 VITAMIN C 500MG TAB  TABLETS & CAPSULES            NaN\n",
       "750                 VOGLIBOSE 0.3MG TAB  TABLETS & CAPSULES            NaN\n",
       "751              VORICONAZOLE 200MG INJ          INJECTIONS            NaN\n",
       "752              VORICONAZOLE 200MG TAB  TABLETS & CAPSULES            NaN\n",
       "756           ZINC ACETATE 20MG/5ML SYP  SYRUP & SUSPENSION            NaN\n",
       "\n",
       "[761 rows x 3 columns]"
      ]
     },
     "execution_count": 91,
     "metadata": {},
     "output_type": "execute_result"
    }
   ],
   "source": [
    "data.groupby(['DrugName','SubCat'])['Quantity'].skew().to_frame('SkewnessOfQty').reset_index().sort_values('SkewnessOfQty')"
   ]
  },
  {
   "cell_type": "code",
   "execution_count": 92,
   "id": "ef46e325-b4b2-4f71-b81d-2fd0b64756d3",
   "metadata": {},
   "outputs": [
    {
     "data": {
      "text/html": [
       "<div>\n",
       "<style scoped>\n",
       "    .dataframe tbody tr th:only-of-type {\n",
       "        vertical-align: middle;\n",
       "    }\n",
       "\n",
       "    .dataframe tbody tr th {\n",
       "        vertical-align: top;\n",
       "    }\n",
       "\n",
       "    .dataframe thead th {\n",
       "        text-align: right;\n",
       "    }\n",
       "</style>\n",
       "<table border=\"1\" class=\"dataframe\">\n",
       "  <thead>\n",
       "    <tr style=\"text-align: right;\">\n",
       "      <th></th>\n",
       "      <th>DrugName</th>\n",
       "      <th>SubCat</th>\n",
       "      <th>SkewnessOfSales</th>\n",
       "    </tr>\n",
       "  </thead>\n",
       "  <tbody>\n",
       "    <tr>\n",
       "      <th>753</th>\n",
       "      <td>WATER FOR INJECTION 10ML SOLUTION</td>\n",
       "      <td>INJECTIONS</td>\n",
       "      <td>13.818421</td>\n",
       "    </tr>\n",
       "    <tr>\n",
       "      <th>602</th>\n",
       "      <td>PROPOFOL 1% 20ML INJ</td>\n",
       "      <td>INJECTIONS</td>\n",
       "      <td>8.345362</td>\n",
       "    </tr>\n",
       "    <tr>\n",
       "      <th>503</th>\n",
       "      <td>NEOSTIGMINE 5ML INJ</td>\n",
       "      <td>INJECTIONS</td>\n",
       "      <td>5.656854</td>\n",
       "    </tr>\n",
       "    <tr>\n",
       "      <th>516</th>\n",
       "      <td>OCTREOTIDE 100MCG 1ML INJ</td>\n",
       "      <td>INJECTIONS</td>\n",
       "      <td>4.930264</td>\n",
       "    </tr>\n",
       "    <tr>\n",
       "      <th>182</th>\n",
       "      <td>DEXTROSE 5% W/V IV FLUID</td>\n",
       "      <td>IV FLUIDS, ELECTROLYTES, TPN</td>\n",
       "      <td>4.492777</td>\n",
       "    </tr>\n",
       "    <tr>\n",
       "      <th>...</th>\n",
       "      <td>...</td>\n",
       "      <td>...</td>\n",
       "      <td>...</td>\n",
       "    </tr>\n",
       "    <tr>\n",
       "      <th>748</th>\n",
       "      <td>VITAMIN C 500MG TAB</td>\n",
       "      <td>TABLETS &amp; CAPSULES</td>\n",
       "      <td>NaN</td>\n",
       "    </tr>\n",
       "    <tr>\n",
       "      <th>750</th>\n",
       "      <td>VOGLIBOSE 0.3MG TAB</td>\n",
       "      <td>TABLETS &amp; CAPSULES</td>\n",
       "      <td>NaN</td>\n",
       "    </tr>\n",
       "    <tr>\n",
       "      <th>751</th>\n",
       "      <td>VORICONAZOLE 200MG INJ</td>\n",
       "      <td>INJECTIONS</td>\n",
       "      <td>NaN</td>\n",
       "    </tr>\n",
       "    <tr>\n",
       "      <th>752</th>\n",
       "      <td>VORICONAZOLE 200MG TAB</td>\n",
       "      <td>TABLETS &amp; CAPSULES</td>\n",
       "      <td>NaN</td>\n",
       "    </tr>\n",
       "    <tr>\n",
       "      <th>756</th>\n",
       "      <td>ZINC ACETATE 20MG/5ML SYP</td>\n",
       "      <td>SYRUP &amp; SUSPENSION</td>\n",
       "      <td>NaN</td>\n",
       "    </tr>\n",
       "  </tbody>\n",
       "</table>\n",
       "<p>761 rows × 3 columns</p>\n",
       "</div>"
      ],
      "text/plain": [
       "                              DrugName                        SubCat  \\\n",
       "753  WATER FOR INJECTION 10ML SOLUTION                    INJECTIONS   \n",
       "602               PROPOFOL 1% 20ML INJ                    INJECTIONS   \n",
       "503                NEOSTIGMINE 5ML INJ                    INJECTIONS   \n",
       "516          OCTREOTIDE 100MCG 1ML INJ                    INJECTIONS   \n",
       "182           DEXTROSE 5% W/V IV FLUID  IV FLUIDS, ELECTROLYTES, TPN   \n",
       "..                                 ...                           ...   \n",
       "748                VITAMIN C 500MG TAB            TABLETS & CAPSULES   \n",
       "750                VOGLIBOSE 0.3MG TAB            TABLETS & CAPSULES   \n",
       "751             VORICONAZOLE 200MG INJ                    INJECTIONS   \n",
       "752             VORICONAZOLE 200MG TAB            TABLETS & CAPSULES   \n",
       "756          ZINC ACETATE 20MG/5ML SYP            SYRUP & SUSPENSION   \n",
       "\n",
       "     SkewnessOfSales  \n",
       "753        13.818421  \n",
       "602         8.345362  \n",
       "503         5.656854  \n",
       "516         4.930264  \n",
       "182         4.492777  \n",
       "..               ...  \n",
       "748              NaN  \n",
       "750              NaN  \n",
       "751              NaN  \n",
       "752              NaN  \n",
       "756              NaN  \n",
       "\n",
       "[761 rows x 3 columns]"
      ]
     },
     "execution_count": 92,
     "metadata": {},
     "output_type": "execute_result"
    }
   ],
   "source": [
    "data.groupby(['DrugName','SubCat'])['Final_Sales'].skew().to_frame('SkewnessOfSales').reset_index().sort_values('SkewnessOfSales',ascending= False)"
   ]
  },
  {
   "cell_type": "code",
   "execution_count": 94,
   "id": "bd70eef8-f693-4c4b-8cfc-2618a4e5a4fb",
   "metadata": {},
   "outputs": [
    {
     "data": {
      "text/html": [
       "<div>\n",
       "<style scoped>\n",
       "    .dataframe tbody tr th:only-of-type {\n",
       "        vertical-align: middle;\n",
       "    }\n",
       "\n",
       "    .dataframe tbody tr th {\n",
       "        vertical-align: top;\n",
       "    }\n",
       "\n",
       "    .dataframe thead th {\n",
       "        text-align: right;\n",
       "    }\n",
       "</style>\n",
       "<table border=\"1\" class=\"dataframe\">\n",
       "  <thead>\n",
       "    <tr style=\"text-align: right;\">\n",
       "      <th></th>\n",
       "      <th>DrugName</th>\n",
       "      <th>SubCat</th>\n",
       "      <th>SkewnessOfSales</th>\n",
       "    </tr>\n",
       "  </thead>\n",
       "  <tbody>\n",
       "    <tr>\n",
       "      <th>403</th>\n",
       "      <td>LIGNOCAINE HYDROCHLORIDE 2% INJ</td>\n",
       "      <td>INJECTIONS</td>\n",
       "      <td>-6.480741</td>\n",
       "    </tr>\n",
       "    <tr>\n",
       "      <th>401</th>\n",
       "      <td>LIDOCAINE/LIGNOCAINE (2%) INJ</td>\n",
       "      <td>INJECTIONS</td>\n",
       "      <td>-5.814315</td>\n",
       "    </tr>\n",
       "    <tr>\n",
       "      <th>554</th>\n",
       "      <td>PARACETAMOL 650MG TAB</td>\n",
       "      <td>TABLETS &amp; CAPSULES</td>\n",
       "      <td>-5.730869</td>\n",
       "    </tr>\n",
       "    <tr>\n",
       "      <th>413</th>\n",
       "      <td>LIQUID PARAFFIN + MILK OF MAGNESIA</td>\n",
       "      <td>SYRUP &amp; SUSPENSION</td>\n",
       "      <td>-5.527840</td>\n",
       "    </tr>\n",
       "    <tr>\n",
       "      <th>107</th>\n",
       "      <td>CARVEDILOL 3.125MG</td>\n",
       "      <td>TABLETS &amp; CAPSULES</td>\n",
       "      <td>-4.574227</td>\n",
       "    </tr>\n",
       "    <tr>\n",
       "      <th>...</th>\n",
       "      <td>...</td>\n",
       "      <td>...</td>\n",
       "      <td>...</td>\n",
       "    </tr>\n",
       "    <tr>\n",
       "      <th>748</th>\n",
       "      <td>VITAMIN C 500MG TAB</td>\n",
       "      <td>TABLETS &amp; CAPSULES</td>\n",
       "      <td>NaN</td>\n",
       "    </tr>\n",
       "    <tr>\n",
       "      <th>750</th>\n",
       "      <td>VOGLIBOSE 0.3MG TAB</td>\n",
       "      <td>TABLETS &amp; CAPSULES</td>\n",
       "      <td>NaN</td>\n",
       "    </tr>\n",
       "    <tr>\n",
       "      <th>751</th>\n",
       "      <td>VORICONAZOLE 200MG INJ</td>\n",
       "      <td>INJECTIONS</td>\n",
       "      <td>NaN</td>\n",
       "    </tr>\n",
       "    <tr>\n",
       "      <th>752</th>\n",
       "      <td>VORICONAZOLE 200MG TAB</td>\n",
       "      <td>TABLETS &amp; CAPSULES</td>\n",
       "      <td>NaN</td>\n",
       "    </tr>\n",
       "    <tr>\n",
       "      <th>756</th>\n",
       "      <td>ZINC ACETATE 20MG/5ML SYP</td>\n",
       "      <td>SYRUP &amp; SUSPENSION</td>\n",
       "      <td>NaN</td>\n",
       "    </tr>\n",
       "  </tbody>\n",
       "</table>\n",
       "<p>761 rows × 3 columns</p>\n",
       "</div>"
      ],
      "text/plain": [
       "                               DrugName              SubCat  SkewnessOfSales\n",
       "403     LIGNOCAINE HYDROCHLORIDE 2% INJ          INJECTIONS        -6.480741\n",
       "401       LIDOCAINE/LIGNOCAINE (2%) INJ          INJECTIONS        -5.814315\n",
       "554               PARACETAMOL 650MG TAB  TABLETS & CAPSULES        -5.730869\n",
       "413  LIQUID PARAFFIN + MILK OF MAGNESIA  SYRUP & SUSPENSION        -5.527840\n",
       "107                  CARVEDILOL 3.125MG  TABLETS & CAPSULES        -4.574227\n",
       "..                                  ...                 ...              ...\n",
       "748                 VITAMIN C 500MG TAB  TABLETS & CAPSULES              NaN\n",
       "750                 VOGLIBOSE 0.3MG TAB  TABLETS & CAPSULES              NaN\n",
       "751              VORICONAZOLE 200MG INJ          INJECTIONS              NaN\n",
       "752              VORICONAZOLE 200MG TAB  TABLETS & CAPSULES              NaN\n",
       "756           ZINC ACETATE 20MG/5ML SYP  SYRUP & SUSPENSION              NaN\n",
       "\n",
       "[761 rows x 3 columns]"
      ]
     },
     "execution_count": 94,
     "metadata": {},
     "output_type": "execute_result"
    }
   ],
   "source": [
    "data.groupby(['DrugName','SubCat'])['Final_Sales'].skew().to_frame('SkewnessOfSales').reset_index().sort_values('SkewnessOfSales')"
   ]
  },
  {
   "cell_type": "code",
   "execution_count": null,
   "id": "61075cc0-3db8-4f48-ae2f-ff215c3536f6",
   "metadata": {},
   "outputs": [],
   "source": [
    "#Kurtosis"
   ]
  },
  {
   "cell_type": "code",
   "execution_count": 95,
   "id": "c0c3f7e1-939d-49c6-9e8c-8eb943e378d9",
   "metadata": {},
   "outputs": [
    {
     "data": {
      "text/plain": [
       "948.5227111226725"
      ]
     },
     "execution_count": 95,
     "metadata": {},
     "output_type": "execute_result"
    }
   ],
   "source": [
    "data['Final_Sales'].kurtosis()"
   ]
  },
  {
   "cell_type": "code",
   "execution_count": null,
   "id": "fab38498-82c4-49fb-a06c-b69857b0440c",
   "metadata": {},
   "outputs": [],
   "source": [
    "#Visualization"
   ]
  },
  {
   "cell_type": "code",
   "execution_count": null,
   "id": "b40995c9-b6c0-48c9-9a2d-37fa3e7f5f9f",
   "metadata": {},
   "outputs": [],
   "source": [
    "#Bar Graph"
   ]
  },
  {
   "cell_type": "code",
   "execution_count": 16,
   "id": "94ecb170-6ab0-4fc9-b867-a381f19c4751",
   "metadata": {},
   "outputs": [
    {
     "data": {
      "application/vnd.plotly.v1+json": {
       "config": {
        "plotlyServerURL": "https://plot.ly"
       },
       "data": [
        {
         "alignmentgroup": "True",
         "hovertemplate": "variable=Final_Sales<br>Dateofbill=%{x}<br>value=%{y}<extra></extra>",
         "legendgroup": "Final_Sales",
         "marker": {
          "color": "#636efa",
          "pattern": {
           "shape": ""
          }
         },
         "name": "Final_Sales",
         "offsetgroup": "Final_Sales",
         "orientation": "v",
         "showlegend": true,
         "textposition": "auto",
         "type": "bar",
         "x": [
          "1/1/2022",
          "1/10/2022",
          "1/11/2022",
          "1/12/2022",
          "1/13/2022",
          "1/14/2022",
          "1/15/2022",
          "1/16/2022",
          "1/17/2022",
          "1/18/2022",
          "1/19/2022",
          "1/2/2022",
          "1/20/2022",
          "1/21/2022",
          "1/22/2022",
          "1/23/2022",
          "1/24/2022",
          "1/25/2022",
          "1/26/2022",
          "1/27/2022",
          "1/28/2022",
          "1/29/2022",
          "1/3/2022",
          "1/30/2022",
          "1/31/2022",
          "1/4/2022",
          "1/5/2022",
          "1/6/2022",
          "1/7/2022",
          "1/8/2022",
          "1/9/2022",
          "10/1/2022",
          "10/10/2022",
          "10/11/2022",
          "10/12/2022",
          "10/13/2022",
          "10/14/2022",
          "10/15/2022",
          "10/16/2022",
          "10/17/2022",
          "10/18/2022",
          "10/19/2022",
          "10/2/2022",
          "10/20/2022",
          "10/21/2022",
          "10/22/2022",
          "10/23/2022",
          "10/24/2022",
          "10/25/2022",
          "10/26/2022",
          "10/27/2022",
          "10/28/2022",
          "10/29/2022",
          "10/3/2022",
          "10/30/2022",
          "10/31/2022",
          "10/4/2022",
          "10/5/2022",
          "10/6/2022",
          "10/7/2022",
          "10/8/2022",
          "10/9/2022",
          "11/1/2022",
          "11/10/2022",
          "11/11/2022",
          "11/12/2022",
          "11/13/2022",
          "11/14/2022",
          "11/15/2022",
          "11/16/2022",
          "11/17/2022",
          "11/18/2022",
          "11/19/2022",
          "11/2/2022",
          "11/20/2022",
          "11/21/2022",
          "11/22/2022",
          "11/23/2022",
          "11/24/2022",
          "11/25/2022",
          "11/26/2022",
          "11/27/2022",
          "11/28/2022",
          "11/29/2022",
          "11/3/2022",
          "11/30/2022",
          "11/4/2022",
          "11/5/2022",
          "11/6/2022",
          "11/7/2022",
          "11/8/2022",
          "11/9/2022",
          "12/1/2022",
          "12/10/2022",
          "12/11/2022",
          "12/12/2022",
          "12/13/2022",
          "12/14/2022",
          "12/15/2022",
          "12/16/2022",
          "12/17/2022",
          "12/18/2022",
          "12/19/2022",
          "12/2/2022",
          "12/20/2022",
          "12/21/2022",
          "12/22/2022",
          "12/23/2022",
          "12/24/2022",
          "12/25/2022",
          "12/26/2022",
          "12/27/2022",
          "12/28/2022",
          "12/29/2022",
          "12/3/2022",
          "12/30/2022",
          "12/31/2022",
          "12/4/2022",
          "12/5/2022",
          "12/6/2022",
          "12/7/2022",
          "12/8/2022",
          "12/9/2022",
          "2/1/2022",
          "2/10/2022",
          "2/11/2022",
          "2/12/2022",
          "2/13/2022",
          "2/14/2022",
          "2/15/2022",
          "2/16/2022",
          "2/17/2022",
          "2/18/2022",
          "2/19/2022",
          "2/2/2022",
          "2/20/2022",
          "2/21/2022",
          "2/22/2022",
          "2/23/2022",
          "2/24/2022",
          "2/25/2022",
          "2/26/2022",
          "2/27/2022",
          "2/28/2022",
          "2/3/2022",
          "2/4/2022",
          "2/5/2022",
          "2/6/2022",
          "2/7/2022",
          "2/8/2022",
          "2/9/2022",
          "3/1/2022",
          "3/10/2022",
          "3/11/2022",
          "3/12/2022",
          "3/13/2022",
          "3/14/2022",
          "3/15/2022",
          "3/16/2022",
          "3/17/2022",
          "3/18/2022",
          "3/19/2022",
          "3/2/2022",
          "3/20/2022",
          "3/21/2022",
          "3/22/2022",
          "3/23/2022",
          "3/24/2022",
          "3/25/2022",
          "3/26/2022",
          "3/27/2022",
          "3/28/2022",
          "3/29/2022",
          "3/3/2022",
          "3/30/2022",
          "3/31/2022",
          "3/4/2022",
          "3/5/2022",
          "3/6/2022",
          "3/7/2022",
          "3/8/2022",
          "3/9/2022",
          "4/1/2022",
          "4/10/2022",
          "4/11/2022",
          "4/12/2022",
          "4/13/2022",
          "4/14/2022",
          "4/15/2022",
          "4/16/2022",
          "4/17/2022",
          "4/18/2022",
          "4/19/2022",
          "4/2/2022",
          "4/20/2022",
          "4/21/2022",
          "4/22/2022",
          "4/23/2022",
          "4/24/2022",
          "4/25/2022",
          "4/26/2022",
          "4/27/2022",
          "4/28/2022",
          "4/29/2022",
          "4/3/2022",
          "4/30/2022",
          "4/4/2022",
          "4/5/2022",
          "4/6/2022",
          "4/7/2022",
          "4/8/2022",
          "4/9/2022",
          "5/1/2022",
          "5/10/2022",
          "5/11/2022",
          "5/12/2022",
          "5/13/2022",
          "5/14/2022",
          "5/15/2022",
          "5/16/2022",
          "5/17/2022",
          "5/18/2022",
          "5/19/2022",
          "5/2/2022",
          "5/20/2022",
          "5/21/2022",
          "5/22/2022",
          "5/23/2022",
          "5/24/2022",
          "5/25/2022",
          "5/26/2022",
          "5/27/2022",
          "5/28/2022",
          "5/29/2022",
          "5/3/2022",
          "5/30/2022",
          "5/31/2022",
          "5/4/2022",
          "5/5/2022",
          "5/6/2022",
          "5/7/2022",
          "5/8/2022",
          "5/9/2022",
          "6/1/2022",
          "6/10/2022",
          "6/11/2022",
          "6/12/2022",
          "6/13/2022",
          "6/14/2022",
          "6/15/2022",
          "6/16/2022",
          "6/17/2022",
          "6/18/2022",
          "6/19/2022",
          "6/2/2022",
          "6/20/2022",
          "6/21/2022",
          "6/22/2022",
          "6/23/2022",
          "6/24/2022",
          "6/25/2022",
          "6/26/2022",
          "6/27/2022",
          "6/28/2022",
          "6/29/2022",
          "6/3/2022",
          "6/30/2022",
          "6/4/2022",
          "6/5/2022",
          "6/6/2022",
          "6/7/2022",
          "6/8/2022",
          "6/9/2022",
          "7/1/2022",
          "7/10/2022",
          "7/11/2022",
          "7/12/2022",
          "7/13/2022",
          "7/14/2022",
          "7/15/2022",
          "7/16/2022",
          "7/17/2022",
          "7/18/2022",
          "7/19/2022",
          "7/2/2022",
          "7/20/2022",
          "7/21/2022",
          "7/22/2022",
          "7/23/2022",
          "7/24/2022",
          "7/25/2022",
          "7/26/2022",
          "7/27/2022",
          "7/28/2022",
          "7/29/2022",
          "7/3/2022",
          "7/30/2022",
          "7/31/2022",
          "7/4/2022",
          "7/5/2022",
          "7/6/2022",
          "7/7/2022",
          "7/8/2022",
          "7/9/2022",
          "8/1/2022",
          "8/10/2022",
          "8/11/2022",
          "8/12/2022",
          "8/13/2022",
          "8/14/2022",
          "8/15/2022",
          "8/16/2022",
          "8/17/2022",
          "8/18/2022",
          "8/19/2022",
          "8/2/2022",
          "8/20/2022",
          "8/21/2022",
          "8/22/2022",
          "8/23/2022",
          "8/24/2022",
          "8/25/2022",
          "8/26/2022",
          "8/27/2022",
          "8/28/2022",
          "8/29/2022",
          "8/3/2022",
          "8/30/2022",
          "8/31/2022",
          "8/4/2022",
          "8/5/2022",
          "8/6/2022",
          "8/7/2022",
          "8/8/2022",
          "8/9/2022",
          "9/1/2022",
          "9/10/2022",
          "9/11/2022",
          "9/12/2022",
          "9/13/2022",
          "9/14/2022",
          "9/15/2022",
          "9/16/2022",
          "9/17/2022",
          "9/18/2022",
          "9/19/2022",
          "9/2/2022",
          "9/20/2022",
          "9/21/2022",
          "9/22/2022",
          "9/23/2022",
          "9/24/2022",
          "9/25/2022",
          "9/26/2022",
          "9/27/2022",
          "9/28/2022",
          "9/29/2022",
          "9/3/2022",
          "9/30/2022",
          "9/4/2022",
          "9/5/2022",
          "9/6/2022",
          "9/7/2022",
          "9/8/2022",
          "9/9/2022"
         ],
         "xaxis": "x",
         "y": [
          192.29807692307693,
          149.40837037037036,
          126.93278947368421,
          108.59370731707318,
          121.88823809523811,
          174.0072,
          159.63955555555555,
          138.45473684210526,
          132.55245454545454,
          232.21507142857143,
          153.33632258064517,
          511.5272142857143,
          213.4420975609756,
          495.5251111111111,
          238.3794074074074,
          151.02718518518517,
          121.08144444444444,
          288.24485,
          244.71114285714287,
          99.58773684210526,
          277.69116279069766,
          125.21573684210527,
          198.27418749999998,
          515.622303030303,
          293.63645454545457,
          527.5136097560976,
          136.7100512820513,
          185.69758823529412,
          235.6188,
          289.34366666666665,
          252.48440000000002,
          128.44045161290322,
          281.04673076923075,
          199.30886363636364,
          244.3602,
          114.40733333333333,
          113.63782352941176,
          343.52896774193545,
          167.5236923076923,
          109.27722580645161,
          275.02275,
          265.9143243243243,
          210.56137931034482,
          229.68357692307694,
          234.19612765957447,
          255.39640909090912,
          190.66455172413794,
          181.56733333333332,
          312.497,
          157.95458536585366,
          198.0478148148148,
          210.88021739130434,
          504.38947058823527,
          126.346625,
          177.83333333333334,
          415.0631818181818,
          254.36425,
          249.80014285714287,
          191.392,
          245.59587234042553,
          249.59787878787878,
          406.9366,
          196.062275862069,
          93.02107692307693,
          334.46435,
          207.70926315789475,
          221.06638095238097,
          204.13252380952383,
          219.016358974359,
          232.64729824561402,
          309.35,
          567.6747727272727,
          148.74457777777778,
          198.85394444444444,
          99.80777777777777,
          241.51020689655172,
          373.2872888888889,
          315.6501777777778,
          183.73609756097562,
          303.6801224489796,
          135.24266666666668,
          255.16291891891893,
          176.75415384615386,
          248.22019047619045,
          200.45813043478262,
          212.92464999999999,
          130.06119999999999,
          168.99075555555555,
          346.3732258064516,
          231.73253333333332,
          193.9822564102564,
          212.1653125,
          199.08560869565218,
          510.9332105263158,
          251.6111875,
          197.01951515151515,
          291.7918039215686,
          287.1965614035088,
          251.55214814814815,
          298.69514285714286,
          610.7022962962963,
          230.24378260869565,
          381.75017241379305,
          247.8492549019608,
          220.21101587301587,
          244.0648461538462,
          172.1380408163265,
          143.0643076923077,
          336.89876923076923,
          153.0538947368421,
          114.98208333333334,
          251.7948888888889,
          214.35792857142857,
          311.02394594594597,
          166.87745454545455,
          1620.9928484848485,
          184.86576470588236,
          217.44444444444446,
          258.0412,
          262.2168979591837,
          356.6624827586207,
          95.48691428571428,
          256.40867647058826,
          131.405625,
          159.85955555555554,
          456.9805294117647,
          169.84830303030301,
          139.0115789473684,
          205.92207142857143,
          458.60862499999996,
          208.26129729729732,
          274.4614117647059,
          180.97062857142856,
          211.97658823529414,
          181.9061212121212,
          251.55486956521742,
          115.63344827586207,
          234.53131428571427,
          354.50042105263157,
          157.6031111111111,
          225.872,
          251.73282926829268,
          171.7075625,
          336.2104186046512,
          439.1808085106383,
          267.7387924528302,
          205.79370731707317,
          145.03036363636363,
          235.61315151515151,
          234.96702702702706,
          452.8483225806452,
          91.92494117647058,
          322.0876818181818,
          222.9399111111111,
          296.64625806451613,
          373.528,
          124.52304347826086,
          149.75237209302324,
          155.97656,
          203.7891320754717,
          197.15023076923077,
          215.94854901960784,
          508.6057368421053,
          269.129,
          176.60266666666664,
          113.86030769230769,
          138.13078947368422,
          122.75082926829268,
          115.84580645161292,
          146.7846857142857,
          113.10022222222223,
          101.54958333333333,
          208.93836363636362,
          269.34700000000004,
          303.9817692307692,
          173.6469268292683,
          310.10408163265305,
          347.2845217391304,
          214.01999999999998,
          177.1299393939394,
          176.70494444444444,
          163.79855172413795,
          175.51353488372092,
          204.5829230769231,
          218.26915,
          259.0921132075472,
          170.04436363636364,
          202.73894339622643,
          157.11323076923077,
          173.86514893617021,
          310.157,
          249.75757575757575,
          156.91830188679245,
          152.79973684210526,
          264.4208510638298,
          253.33800000000002,
          212.20895238095238,
          311.87405128205125,
          193.79430769230768,
          241.338,
          100.8232,
          208.17884210526316,
          74.5318,
          339.16409090909093,
          131.18488000000002,
          276.08704545454543,
          169.43213333333333,
          233.29723076923077,
          211.71796363636363,
          222.59404761904764,
          272.4647894736842,
          222.28366101694914,
          399.0322,
          262.8644186046512,
          229.24765957446806,
          221.02,
          313.65875,
          174.01671794871794,
          106.30368,
          235.71935294117648,
          313.080875,
          219.33875555555557,
          414.7625263157895,
          190.85345,
          234.04365714285714,
          233.30946666666665,
          262.04395,
          141.17848275862067,
          152.66533333333334,
          262.3156315789474,
          159.91561702127657,
          272.8034,
          238.88063414634146,
          220.0890769230769,
          186.52005555555556,
          131.22059459459462,
          224.4667368421053,
          242.69124137931036,
          798.176,
          103.05012765957446,
          157.9712558139535,
          318.9714285714286,
          162.1021212121212,
          176.39776470588237,
          194.79530612244898,
          140.90229411764705,
          313.838,
          328.22507317073166,
          180.13562162162162,
          222.43522580645163,
          204.4928163265306,
          150.76322033898302,
          118.15946666666667,
          316.24352000000005,
          226.33939130434786,
          201.21884210526315,
          180.46984210526315,
          359.8291034482759,
          227.4025294117647,
          416.2948837209302,
          296.3119375,
          159.3184347826087,
          205.00375,
          157.06859574468086,
          127.64787096774192,
          115.2535294117647,
          116.9546,
          185.0569189189189,
          155.54791666666668,
          284.86107692307695,
          188.03854545454544,
          161.58769999999998,
          164.952972972973,
          375.4721935483871,
          275.87805263157895,
          185.7816216216216,
          217.0858888888889,
          182.43582978723404,
          171.852972972973,
          155.9428,
          336.3355471698113,
          156.86082758620688,
          235.93843478260868,
          171.82485714285713,
          349.33152,
          401.99567567567567,
          182.78614814814813,
          309.872170212766,
          188.07094999999998,
          286.0837142857143,
          228.57566666666665,
          234.76840909090907,
          142.36895238095238,
          248.82775999999998,
          132.08671794871793,
          327.87942857142855,
          315.01250000000005,
          296.2658823529412,
          275.43185714285715,
          95.00170731707317,
          222.19189743589746,
          254.9896285714286,
          221.01703999999998,
          240.03702857142858,
          159.59362162162162,
          174.04786363636364,
          191.20454054054053,
          162.52135849056603,
          226.27526829268294,
          270.7388205128205,
          139.746375,
          254.83857142857144,
          236.60906382978723,
          143.88323333333335,
          152.72764705882352,
          378.9708108108108,
          297.65173584905665,
          290.0622777777778,
          208.18936585365853,
          169.22690196078432,
          306.23890476190473,
          159.87432727272727,
          170.86554166666667,
          284.781875,
          175.04330434782608,
          319.4458333333333,
          255.26052173913044,
          351.33749152542373,
          279.4633888888889,
          294.5847,
          146.7677857142857,
          166.35863157894735,
          354.95713333333333,
          196.81341935483871,
          363.9637272727273,
          168.38799999999998,
          104.29013333333333,
          241.99617142857142,
          251.33052631578946,
          235.3182950819672,
          244.20825,
          231.72994594594593,
          192.93382978723403,
          226.63120930232557,
          335.3196363636364,
          112.55355555555555,
          146.1538888888889,
          140.76702857142857,
          177.51055813953488,
          170.93419047619048,
          211.95800000000003,
          194.73727272727274,
          287.0594545454545,
          333.59344186046513,
          198.74444444444444,
          107.37047368421052,
          169.11603921568627,
          103.2055,
          199.22150943396227,
          230.44945454545453,
          178.93923529411765,
          146.0503,
          123.35575,
          129.1656111111111,
          308.0238095238095
         ],
         "yaxis": "y"
        }
       ],
       "layout": {
        "autosize": true,
        "barmode": "relative",
        "legend": {
         "title": {
          "text": "variable"
         },
         "tracegroupgap": 0
        },
        "margin": {
         "t": 60
        },
        "template": {
         "data": {
          "bar": [
           {
            "error_x": {
             "color": "#2a3f5f"
            },
            "error_y": {
             "color": "#2a3f5f"
            },
            "marker": {
             "line": {
              "color": "#E5ECF6",
              "width": 0.5
             },
             "pattern": {
              "fillmode": "overlay",
              "size": 10,
              "solidity": 0.2
             }
            },
            "type": "bar"
           }
          ],
          "barpolar": [
           {
            "marker": {
             "line": {
              "color": "#E5ECF6",
              "width": 0.5
             },
             "pattern": {
              "fillmode": "overlay",
              "size": 10,
              "solidity": 0.2
             }
            },
            "type": "barpolar"
           }
          ],
          "carpet": [
           {
            "aaxis": {
             "endlinecolor": "#2a3f5f",
             "gridcolor": "white",
             "linecolor": "white",
             "minorgridcolor": "white",
             "startlinecolor": "#2a3f5f"
            },
            "baxis": {
             "endlinecolor": "#2a3f5f",
             "gridcolor": "white",
             "linecolor": "white",
             "minorgridcolor": "white",
             "startlinecolor": "#2a3f5f"
            },
            "type": "carpet"
           }
          ],
          "choropleth": [
           {
            "colorbar": {
             "outlinewidth": 0,
             "ticks": ""
            },
            "type": "choropleth"
           }
          ],
          "contour": [
           {
            "colorbar": {
             "outlinewidth": 0,
             "ticks": ""
            },
            "colorscale": [
             [
              0,
              "#0d0887"
             ],
             [
              0.1111111111111111,
              "#46039f"
             ],
             [
              0.2222222222222222,
              "#7201a8"
             ],
             [
              0.3333333333333333,
              "#9c179e"
             ],
             [
              0.4444444444444444,
              "#bd3786"
             ],
             [
              0.5555555555555556,
              "#d8576b"
             ],
             [
              0.6666666666666666,
              "#ed7953"
             ],
             [
              0.7777777777777778,
              "#fb9f3a"
             ],
             [
              0.8888888888888888,
              "#fdca26"
             ],
             [
              1,
              "#f0f921"
             ]
            ],
            "type": "contour"
           }
          ],
          "contourcarpet": [
           {
            "colorbar": {
             "outlinewidth": 0,
             "ticks": ""
            },
            "type": "contourcarpet"
           }
          ],
          "heatmap": [
           {
            "colorbar": {
             "outlinewidth": 0,
             "ticks": ""
            },
            "colorscale": [
             [
              0,
              "#0d0887"
             ],
             [
              0.1111111111111111,
              "#46039f"
             ],
             [
              0.2222222222222222,
              "#7201a8"
             ],
             [
              0.3333333333333333,
              "#9c179e"
             ],
             [
              0.4444444444444444,
              "#bd3786"
             ],
             [
              0.5555555555555556,
              "#d8576b"
             ],
             [
              0.6666666666666666,
              "#ed7953"
             ],
             [
              0.7777777777777778,
              "#fb9f3a"
             ],
             [
              0.8888888888888888,
              "#fdca26"
             ],
             [
              1,
              "#f0f921"
             ]
            ],
            "type": "heatmap"
           }
          ],
          "heatmapgl": [
           {
            "colorbar": {
             "outlinewidth": 0,
             "ticks": ""
            },
            "colorscale": [
             [
              0,
              "#0d0887"
             ],
             [
              0.1111111111111111,
              "#46039f"
             ],
             [
              0.2222222222222222,
              "#7201a8"
             ],
             [
              0.3333333333333333,
              "#9c179e"
             ],
             [
              0.4444444444444444,
              "#bd3786"
             ],
             [
              0.5555555555555556,
              "#d8576b"
             ],
             [
              0.6666666666666666,
              "#ed7953"
             ],
             [
              0.7777777777777778,
              "#fb9f3a"
             ],
             [
              0.8888888888888888,
              "#fdca26"
             ],
             [
              1,
              "#f0f921"
             ]
            ],
            "type": "heatmapgl"
           }
          ],
          "histogram": [
           {
            "marker": {
             "pattern": {
              "fillmode": "overlay",
              "size": 10,
              "solidity": 0.2
             }
            },
            "type": "histogram"
           }
          ],
          "histogram2d": [
           {
            "colorbar": {
             "outlinewidth": 0,
             "ticks": ""
            },
            "colorscale": [
             [
              0,
              "#0d0887"
             ],
             [
              0.1111111111111111,
              "#46039f"
             ],
             [
              0.2222222222222222,
              "#7201a8"
             ],
             [
              0.3333333333333333,
              "#9c179e"
             ],
             [
              0.4444444444444444,
              "#bd3786"
             ],
             [
              0.5555555555555556,
              "#d8576b"
             ],
             [
              0.6666666666666666,
              "#ed7953"
             ],
             [
              0.7777777777777778,
              "#fb9f3a"
             ],
             [
              0.8888888888888888,
              "#fdca26"
             ],
             [
              1,
              "#f0f921"
             ]
            ],
            "type": "histogram2d"
           }
          ],
          "histogram2dcontour": [
           {
            "colorbar": {
             "outlinewidth": 0,
             "ticks": ""
            },
            "colorscale": [
             [
              0,
              "#0d0887"
             ],
             [
              0.1111111111111111,
              "#46039f"
             ],
             [
              0.2222222222222222,
              "#7201a8"
             ],
             [
              0.3333333333333333,
              "#9c179e"
             ],
             [
              0.4444444444444444,
              "#bd3786"
             ],
             [
              0.5555555555555556,
              "#d8576b"
             ],
             [
              0.6666666666666666,
              "#ed7953"
             ],
             [
              0.7777777777777778,
              "#fb9f3a"
             ],
             [
              0.8888888888888888,
              "#fdca26"
             ],
             [
              1,
              "#f0f921"
             ]
            ],
            "type": "histogram2dcontour"
           }
          ],
          "mesh3d": [
           {
            "colorbar": {
             "outlinewidth": 0,
             "ticks": ""
            },
            "type": "mesh3d"
           }
          ],
          "parcoords": [
           {
            "line": {
             "colorbar": {
              "outlinewidth": 0,
              "ticks": ""
             }
            },
            "type": "parcoords"
           }
          ],
          "pie": [
           {
            "automargin": true,
            "type": "pie"
           }
          ],
          "scatter": [
           {
            "fillpattern": {
             "fillmode": "overlay",
             "size": 10,
             "solidity": 0.2
            },
            "type": "scatter"
           }
          ],
          "scatter3d": [
           {
            "line": {
             "colorbar": {
              "outlinewidth": 0,
              "ticks": ""
             }
            },
            "marker": {
             "colorbar": {
              "outlinewidth": 0,
              "ticks": ""
             }
            },
            "type": "scatter3d"
           }
          ],
          "scattercarpet": [
           {
            "marker": {
             "colorbar": {
              "outlinewidth": 0,
              "ticks": ""
             }
            },
            "type": "scattercarpet"
           }
          ],
          "scattergeo": [
           {
            "marker": {
             "colorbar": {
              "outlinewidth": 0,
              "ticks": ""
             }
            },
            "type": "scattergeo"
           }
          ],
          "scattergl": [
           {
            "marker": {
             "colorbar": {
              "outlinewidth": 0,
              "ticks": ""
             }
            },
            "type": "scattergl"
           }
          ],
          "scattermapbox": [
           {
            "marker": {
             "colorbar": {
              "outlinewidth": 0,
              "ticks": ""
             }
            },
            "type": "scattermapbox"
           }
          ],
          "scatterpolar": [
           {
            "marker": {
             "colorbar": {
              "outlinewidth": 0,
              "ticks": ""
             }
            },
            "type": "scatterpolar"
           }
          ],
          "scatterpolargl": [
           {
            "marker": {
             "colorbar": {
              "outlinewidth": 0,
              "ticks": ""
             }
            },
            "type": "scatterpolargl"
           }
          ],
          "scatterternary": [
           {
            "marker": {
             "colorbar": {
              "outlinewidth": 0,
              "ticks": ""
             }
            },
            "type": "scatterternary"
           }
          ],
          "surface": [
           {
            "colorbar": {
             "outlinewidth": 0,
             "ticks": ""
            },
            "colorscale": [
             [
              0,
              "#0d0887"
             ],
             [
              0.1111111111111111,
              "#46039f"
             ],
             [
              0.2222222222222222,
              "#7201a8"
             ],
             [
              0.3333333333333333,
              "#9c179e"
             ],
             [
              0.4444444444444444,
              "#bd3786"
             ],
             [
              0.5555555555555556,
              "#d8576b"
             ],
             [
              0.6666666666666666,
              "#ed7953"
             ],
             [
              0.7777777777777778,
              "#fb9f3a"
             ],
             [
              0.8888888888888888,
              "#fdca26"
             ],
             [
              1,
              "#f0f921"
             ]
            ],
            "type": "surface"
           }
          ],
          "table": [
           {
            "cells": {
             "fill": {
              "color": "#EBF0F8"
             },
             "line": {
              "color": "white"
             }
            },
            "header": {
             "fill": {
              "color": "#C8D4E3"
             },
             "line": {
              "color": "white"
             }
            },
            "type": "table"
           }
          ]
         },
         "layout": {
          "annotationdefaults": {
           "arrowcolor": "#2a3f5f",
           "arrowhead": 0,
           "arrowwidth": 1
          },
          "autotypenumbers": "strict",
          "coloraxis": {
           "colorbar": {
            "outlinewidth": 0,
            "ticks": ""
           }
          },
          "colorscale": {
           "diverging": [
            [
             0,
             "#8e0152"
            ],
            [
             0.1,
             "#c51b7d"
            ],
            [
             0.2,
             "#de77ae"
            ],
            [
             0.3,
             "#f1b6da"
            ],
            [
             0.4,
             "#fde0ef"
            ],
            [
             0.5,
             "#f7f7f7"
            ],
            [
             0.6,
             "#e6f5d0"
            ],
            [
             0.7,
             "#b8e186"
            ],
            [
             0.8,
             "#7fbc41"
            ],
            [
             0.9,
             "#4d9221"
            ],
            [
             1,
             "#276419"
            ]
           ],
           "sequential": [
            [
             0,
             "#0d0887"
            ],
            [
             0.1111111111111111,
             "#46039f"
            ],
            [
             0.2222222222222222,
             "#7201a8"
            ],
            [
             0.3333333333333333,
             "#9c179e"
            ],
            [
             0.4444444444444444,
             "#bd3786"
            ],
            [
             0.5555555555555556,
             "#d8576b"
            ],
            [
             0.6666666666666666,
             "#ed7953"
            ],
            [
             0.7777777777777778,
             "#fb9f3a"
            ],
            [
             0.8888888888888888,
             "#fdca26"
            ],
            [
             1,
             "#f0f921"
            ]
           ],
           "sequentialminus": [
            [
             0,
             "#0d0887"
            ],
            [
             0.1111111111111111,
             "#46039f"
            ],
            [
             0.2222222222222222,
             "#7201a8"
            ],
            [
             0.3333333333333333,
             "#9c179e"
            ],
            [
             0.4444444444444444,
             "#bd3786"
            ],
            [
             0.5555555555555556,
             "#d8576b"
            ],
            [
             0.6666666666666666,
             "#ed7953"
            ],
            [
             0.7777777777777778,
             "#fb9f3a"
            ],
            [
             0.8888888888888888,
             "#fdca26"
            ],
            [
             1,
             "#f0f921"
            ]
           ]
          },
          "colorway": [
           "#636efa",
           "#EF553B",
           "#00cc96",
           "#ab63fa",
           "#FFA15A",
           "#19d3f3",
           "#FF6692",
           "#B6E880",
           "#FF97FF",
           "#FECB52"
          ],
          "font": {
           "color": "#2a3f5f"
          },
          "geo": {
           "bgcolor": "white",
           "lakecolor": "white",
           "landcolor": "#E5ECF6",
           "showlakes": true,
           "showland": true,
           "subunitcolor": "white"
          },
          "hoverlabel": {
           "align": "left"
          },
          "hovermode": "closest",
          "mapbox": {
           "style": "light"
          },
          "paper_bgcolor": "white",
          "plot_bgcolor": "#E5ECF6",
          "polar": {
           "angularaxis": {
            "gridcolor": "white",
            "linecolor": "white",
            "ticks": ""
           },
           "bgcolor": "#E5ECF6",
           "radialaxis": {
            "gridcolor": "white",
            "linecolor": "white",
            "ticks": ""
           }
          },
          "scene": {
           "xaxis": {
            "backgroundcolor": "#E5ECF6",
            "gridcolor": "white",
            "gridwidth": 2,
            "linecolor": "white",
            "showbackground": true,
            "ticks": "",
            "zerolinecolor": "white"
           },
           "yaxis": {
            "backgroundcolor": "#E5ECF6",
            "gridcolor": "white",
            "gridwidth": 2,
            "linecolor": "white",
            "showbackground": true,
            "ticks": "",
            "zerolinecolor": "white"
           },
           "zaxis": {
            "backgroundcolor": "#E5ECF6",
            "gridcolor": "white",
            "gridwidth": 2,
            "linecolor": "white",
            "showbackground": true,
            "ticks": "",
            "zerolinecolor": "white"
           }
          },
          "shapedefaults": {
           "line": {
            "color": "#2a3f5f"
           }
          },
          "ternary": {
           "aaxis": {
            "gridcolor": "white",
            "linecolor": "white",
            "ticks": ""
           },
           "baxis": {
            "gridcolor": "white",
            "linecolor": "white",
            "ticks": ""
           },
           "bgcolor": "#E5ECF6",
           "caxis": {
            "gridcolor": "white",
            "linecolor": "white",
            "ticks": ""
           }
          },
          "title": {
           "x": 0.05
          },
          "xaxis": {
           "automargin": true,
           "gridcolor": "white",
           "linecolor": "white",
           "ticks": "",
           "title": {
            "standoff": 15
           },
           "zerolinecolor": "white",
           "zerolinewidth": 2
          },
          "yaxis": {
           "automargin": true,
           "gridcolor": "white",
           "linecolor": "white",
           "ticks": "",
           "title": {
            "standoff": 15
           },
           "zerolinecolor": "white",
           "zerolinewidth": 2
          }
         }
        },
        "xaxis": {
         "anchor": "y",
         "autorange": true,
         "domain": [
          0,
          1
         ],
         "range": [
          -0.5,
          364.5
         ],
         "title": {
          "text": "Dateofbill"
         },
         "type": "category"
        },
        "yaxis": {
         "anchor": "x",
         "autorange": true,
         "domain": [
          0,
          1
         ],
         "range": [
          0,
          1706.3082615629985
         ],
         "title": {
          "text": "value"
         },
         "type": "linear"
        }
       }
      },
      "image/png": "[encoded data removed]",
      "text/html": [
       "<div>                            <div id=\"7d1329a3-348c-4b3d-a821-9b991893f55d\" class=\"plotly-graph-div\" style=\"height:525px; width:100%;\"></div>            <script type=\"text/javascript\">                require([\"plotly\"], function(Plotly) {                    window.PLOTLYENV=window.PLOTLYENV || {};                                    if (document.getElementById(\"7d1329a3-348c-4b3d-a821-9b991893f55d\")) {                    Plotly.newPlot(                        \"7d1329a3-348c-4b3d-a821-9b991893f55d\",                        [{\"alignmentgroup\":\"True\",\"hovertemplate\":\"variable=Final_Sales<br>Dateofbill=%{x}<br>value=%{y}<extra></extra>\",\"legendgroup\":\"Final_Sales\",\"marker\":{\"color\":\"#636efa\",\"pattern\":{\"shape\":\"\"}},\"name\":\"Final_Sales\",\"offsetgroup\":\"Final_Sales\",\"orientation\":\"v\",\"showlegend\":true,\"textposition\":\"auto\",\"x\":[\"1/1/2022\",\"1/10/2022\",\"1/11/2022\",\"1/12/2022\",\"1/13/2022\",\"1/14/2022\",\"1/15/2022\",\"1/16/2022\",\"1/17/2022\",\"1/18/2022\",\"1/19/2022\",\"1/2/2022\",\"1/20/2022\",\"1/21/2022\",\"1/22/2022\",\"1/23/2022\",\"1/24/2022\",\"1/25/2022\",\"1/26/2022\",\"1/27/2022\",\"1/28/2022\",\"1/29/2022\",\"1/3/2022\",\"1/30/2022\",\"1/31/2022\",\"1/4/2022\",\"1/5/2022\",\"1/6/2022\",\"1/7/2022\",\"1/8/2022\",\"1/9/2022\",\"10/1/2022\",\"10/10/2022\",\"10/11/2022\",\"10/12/2022\",\"10/13/2022\",\"10/14/2022\",\"10/15/2022\",\"10/16/2022\",\"10/17/2022\",\"10/18/2022\",\"10/19/2022\",\"10/2/2022\",\"10/20/2022\",\"10/21/2022\",\"10/22/2022\",\"10/23/2022\",\"10/24/2022\",\"10/25/2022\",\"10/26/2022\",\"10/27/2022\",\"10/28/2022\",\"10/29/2022\",\"10/3/2022\",\"10/30/2022\",\"10/31/2022\",\"10/4/2022\",\"10/5/2022\",\"10/6/2022\",\"10/7/2022\",\"10/8/2022\",\"10/9/2022\",\"11/1/2022\",\"11/10/2022\",\"11/11/2022\",\"11/12/2022\",\"11/13/2022\",\"11/14/2022\",\"11/15/2022\",\"11/16/2022\",\"11/17/2022\",\"11/18/2022\",\"11/19/2022\",\"11/2/2022\",\"11/20/2022\",\"11/21/2022\",\"11/22/2022\",\"11/23/2022\",\"11/24/2022\",\"11/25/2022\",\"11/26/2022\",\"11/27/2022\",\"11/28/2022\",\"11/29/2022\",\"11/3/2022\",\"11/30/2022\",\"11/4/2022\",\"11/5/2022\",\"11/6/2022\",\"11/7/2022\",\"11/8/2022\",\"11/9/2022\",\"12/1/2022\",\"12/10/2022\",\"12/11/2022\",\"12/12/2022\",\"12/13/2022\",\"12/14/2022\",\"12/15/2022\",\"12/16/2022\",\"12/17/2022\",\"12/18/2022\",\"12/19/2022\",\"12/2/2022\",\"12/20/2022\",\"12/21/2022\",\"12/22/2022\",\"12/23/2022\",\"12/24/2022\",\"12/25/2022\",\"12/26/2022\",\"12/27/2022\",\"12/28/2022\",\"12/29/2022\",\"12/3/2022\",\"12/30/2022\",\"12/31/2022\",\"12/4/2022\",\"12/5/2022\",\"12/6/2022\",\"12/7/2022\",\"12/8/2022\",\"12/9/2022\",\"2/1/2022\",\"2/10/2022\",\"2/11/2022\",\"2/12/2022\",\"2/13/2022\",\"2/14/2022\",\"2/15/2022\",\"2/16/2022\",\"2/17/2022\",\"2/18/2022\",\"2/19/2022\",\"2/2/2022\",\"2/20/2022\",\"2/21/2022\",\"2/22/2022\",\"2/23/2022\",\"2/24/2022\",\"2/25/2022\",\"2/26/2022\",\"2/27/2022\",\"2/28/2022\",\"2/3/2022\",\"2/4/2022\",\"2/5/2022\",\"2/6/2022\",\"2/7/2022\",\"2/8/2022\",\"2/9/2022\",\"3/1/2022\",\"3/10/2022\",\"3/11/2022\",\"3/12/2022\",\"3/13/2022\",\"3/14/2022\",\"3/15/2022\",\"3/16/2022\",\"3/17/2022\",\"3/18/2022\",\"3/19/2022\",\"3/2/2022\",\"3/20/2022\",\"3/21/2022\",\"3/22/2022\",\"3/23/2022\",\"3/24/2022\",\"3/25/2022\",\"3/26/2022\",\"3/27/2022\",\"3/28/2022\",\"3/29/2022\",\"3/3/2022\",\"3/30/2022\",\"3/31/2022\",\"3/4/2022\",\"3/5/2022\",\"3/6/2022\",\"3/7/2022\",\"3/8/2022\",\"3/9/2022\",\"4/1/2022\",\"4/10/2022\",\"4/11/2022\",\"4/12/2022\",\"4/13/2022\",\"4/14/2022\",\"4/15/2022\",\"4/16/2022\",\"4/17/2022\",\"4/18/2022\",\"4/19/2022\",\"4/2/2022\",\"4/20/2022\",\"4/21/2022\",\"4/22/2022\",\"4/23/2022\",\"4/24/2022\",\"4/25/2022\",\"4/26/2022\",\"4/27/2022\",\"4/28/2022\",\"4/29/2022\",\"4/3/2022\",\"4/30/2022\",\"4/4/2022\",\"4/5/2022\",\"4/6/2022\",\"4/7/2022\",\"4/8/2022\",\"4/9/2022\",\"5/1/2022\",\"5/10/2022\",\"5/11/2022\",\"5/12/2022\",\"5/13/2022\",\"5/14/2022\",\"5/15/2022\",\"5/16/2022\",\"5/17/2022\",\"5/18/2022\",\"5/19/2022\",\"5/2/2022\",\"5/20/2022\",\"5/21/2022\",\"5/22/2022\",\"5/23/2022\",\"5/24/2022\",\"5/25/2022\",\"5/26/2022\",\"5/27/2022\",\"5/28/2022\",\"5/29/2022\",\"5/3/2022\",\"5/30/2022\",\"5/31/2022\",\"5/4/2022\",\"5/5/2022\",\"5/6/2022\",\"5/7/2022\",\"5/8/2022\",\"5/9/2022\",\"6/1/2022\",\"6/10/2022\",\"6/11/2022\",\"6/12/2022\",\"6/13/2022\",\"6/14/2022\",\"6/15/2022\",\"6/16/2022\",\"6/17/2022\",\"6/18/2022\",\"6/19/2022\",\"6/2/2022\",\"6/20/2022\",\"6/21/2022\",\"6/22/2022\",\"6/23/2022\",\"6/24/2022\",\"6/25/2022\",\"6/26/2022\",\"6/27/2022\",\"6/28/2022\",\"6/29/2022\",\"6/3/2022\",\"6/30/2022\",\"6/4/2022\",\"6/5/2022\",\"6/6/2022\",\"6/7/2022\",\"6/8/2022\",\"6/9/2022\",\"7/1/2022\",\"7/10/2022\",\"7/11/2022\",\"7/12/2022\",\"7/13/2022\",\"7/14/2022\",\"7/15/2022\",\"7/16/2022\",\"7/17/2022\",\"7/18/2022\",\"7/19/2022\",\"7/2/2022\",\"7/20/2022\",\"7/21/2022\",\"7/22/2022\",\"7/23/2022\",\"7/24/2022\",\"7/25/2022\",\"7/26/2022\",\"7/27/2022\",\"7/28/2022\",\"7/29/2022\",\"7/3/2022\",\"7/30/2022\",\"7/31/2022\",\"7/4/2022\",\"7/5/2022\",\"7/6/2022\",\"7/7/2022\",\"7/8/2022\",\"7/9/2022\",\"8/1/2022\",\"8/10/2022\",\"8/11/2022\",\"8/12/2022\",\"8/13/2022\",\"8/14/2022\",\"8/15/2022\",\"8/16/2022\",\"8/17/2022\",\"8/18/2022\",\"8/19/2022\",\"8/2/2022\",\"8/20/2022\",\"8/21/2022\",\"8/22/2022\",\"8/23/2022\",\"8/24/2022\",\"8/25/2022\",\"8/26/2022\",\"8/27/2022\",\"8/28/2022\",\"8/29/2022\",\"8/3/2022\",\"8/30/2022\",\"8/31/2022\",\"8/4/2022\",\"8/5/2022\",\"8/6/2022\",\"8/7/2022\",\"8/8/2022\",\"8/9/2022\",\"9/1/2022\",\"9/10/2022\",\"9/11/2022\",\"9/12/2022\",\"9/13/2022\",\"9/14/2022\",\"9/15/2022\",\"9/16/2022\",\"9/17/2022\",\"9/18/2022\",\"9/19/2022\",\"9/2/2022\",\"9/20/2022\",\"9/21/2022\",\"9/22/2022\",\"9/23/2022\",\"9/24/2022\",\"9/25/2022\",\"9/26/2022\",\"9/27/2022\",\"9/28/2022\",\"9/29/2022\",\"9/3/2022\",\"9/30/2022\",\"9/4/2022\",\"9/5/2022\",\"9/6/2022\",\"9/7/2022\",\"9/8/2022\",\"9/9/2022\"],\"xaxis\":\"x\",\"y\":[192.29807692307693,149.40837037037036,126.93278947368421,108.59370731707318,121.88823809523811,174.0072,159.63955555555555,138.45473684210526,132.55245454545454,232.21507142857143,153.33632258064517,511.5272142857143,213.4420975609756,495.5251111111111,238.3794074074074,151.02718518518517,121.08144444444444,288.24485,244.71114285714287,99.58773684210526,277.69116279069766,125.21573684210527,198.27418749999998,515.622303030303,293.63645454545457,527.5136097560976,136.7100512820513,185.69758823529412,235.6188,289.34366666666665,252.48440000000002,128.44045161290322,281.04673076923075,199.30886363636364,244.3602,114.40733333333333,113.63782352941176,343.52896774193545,167.5236923076923,109.27722580645161,275.02275,265.9143243243243,210.56137931034482,229.68357692307694,234.19612765957447,255.39640909090912,190.66455172413794,181.56733333333332,312.497,157.95458536585366,198.0478148148148,210.88021739130434,504.38947058823527,126.346625,177.83333333333334,415.0631818181818,254.36425,249.80014285714287,191.392,245.59587234042553,249.59787878787878,406.9366,196.062275862069,93.02107692307693,334.46435,207.70926315789475,221.06638095238097,204.13252380952383,219.016358974359,232.64729824561402,309.35,567.6747727272727,148.74457777777778,198.85394444444444,99.80777777777777,241.51020689655172,373.2872888888889,315.6501777777778,183.73609756097562,303.6801224489796,135.24266666666668,255.16291891891893,176.75415384615386,248.22019047619045,200.45813043478262,212.92464999999999,130.06119999999999,168.99075555555555,346.3732258064516,231.73253333333332,193.9822564102564,212.1653125,199.08560869565218,510.9332105263158,251.6111875,197.01951515151515,291.7918039215686,287.1965614035088,251.55214814814815,298.69514285714286,610.7022962962963,230.24378260869565,381.75017241379305,247.8492549019608,220.21101587301587,244.0648461538462,172.1380408163265,143.0643076923077,336.89876923076923,153.0538947368421,114.98208333333334,251.7948888888889,214.35792857142857,311.02394594594597,166.87745454545455,1620.9928484848485,184.86576470588236,217.44444444444446,258.0412,262.2168979591837,356.6624827586207,95.48691428571428,256.40867647058826,131.405625,159.85955555555554,456.9805294117647,169.84830303030301,139.0115789473684,205.92207142857143,458.60862499999996,208.26129729729732,274.4614117647059,180.97062857142856,211.97658823529414,181.9061212121212,251.55486956521742,115.63344827586207,234.53131428571427,354.50042105263157,157.6031111111111,225.872,251.73282926829268,171.7075625,336.2104186046512,439.1808085106383,267.7387924528302,205.79370731707317,145.03036363636363,235.61315151515151,234.96702702702706,452.8483225806452,91.92494117647058,322.0876818181818,222.9399111111111,296.64625806451613,373.528,124.52304347826086,149.75237209302324,155.97656,203.7891320754717,197.15023076923077,215.94854901960784,508.6057368421053,269.129,176.60266666666664,113.86030769230769,138.13078947368422,122.75082926829268,115.84580645161292,146.7846857142857,113.10022222222223,101.54958333333333,208.93836363636362,269.34700000000004,303.9817692307692,173.6469268292683,310.10408163265305,347.2845217391304,214.01999999999998,177.1299393939394,176.70494444444444,163.79855172413795,175.51353488372092,204.5829230769231,218.26915,259.0921132075472,170.04436363636364,202.73894339622643,157.11323076923077,173.86514893617021,310.157,249.75757575757575,156.91830188679245,152.79973684210526,264.4208510638298,253.33800000000002,212.20895238095238,311.87405128205125,193.79430769230768,241.338,100.8232,208.17884210526316,74.5318,339.16409090909093,131.18488000000002,276.08704545454543,169.43213333333333,233.29723076923077,211.71796363636363,222.59404761904764,272.4647894736842,222.28366101694914,399.0322,262.8644186046512,229.24765957446806,221.02,313.65875,174.01671794871794,106.30368,235.71935294117648,313.080875,219.33875555555557,414.7625263157895,190.85345,234.04365714285714,233.30946666666665,262.04395,141.17848275862067,152.66533333333334,262.3156315789474,159.91561702127657,272.8034,238.88063414634146,220.0890769230769,186.52005555555556,131.22059459459462,224.4667368421053,242.69124137931036,798.176,103.05012765957446,157.9712558139535,318.9714285714286,162.1021212121212,176.39776470588237,194.79530612244898,140.90229411764705,313.838,328.22507317073166,180.13562162162162,222.43522580645163,204.4928163265306,150.76322033898302,118.15946666666667,316.24352000000005,226.33939130434786,201.21884210526315,180.46984210526315,359.8291034482759,227.4025294117647,416.2948837209302,296.3119375,159.3184347826087,205.00375,157.06859574468086,127.64787096774192,115.2535294117647,116.9546,185.0569189189189,155.54791666666668,284.86107692307695,188.03854545454544,161.58769999999998,164.952972972973,375.4721935483871,275.87805263157895,185.7816216216216,217.0858888888889,182.43582978723404,171.852972972973,155.9428,336.3355471698113,156.86082758620688,235.93843478260868,171.82485714285713,349.33152,401.99567567567567,182.78614814814813,309.872170212766,188.07094999999998,286.0837142857143,228.57566666666665,234.76840909090907,142.36895238095238,248.82775999999998,132.08671794871793,327.87942857142855,315.01250000000005,296.2658823529412,275.43185714285715,95.00170731707317,222.19189743589746,254.9896285714286,221.01703999999998,240.03702857142858,159.59362162162162,174.04786363636364,191.20454054054053,162.52135849056603,226.27526829268294,270.7388205128205,139.746375,254.83857142857144,236.60906382978723,143.88323333333335,152.72764705882352,378.9708108108108,297.65173584905665,290.0622777777778,208.18936585365853,169.22690196078432,306.23890476190473,159.87432727272727,170.86554166666667,284.781875,175.04330434782608,319.4458333333333,255.26052173913044,351.33749152542373,279.4633888888889,294.5847,146.7677857142857,166.35863157894735,354.95713333333333,196.81341935483871,363.9637272727273,168.38799999999998,104.29013333333333,241.99617142857142,251.33052631578946,235.3182950819672,244.20825,231.72994594594593,192.93382978723403,226.63120930232557,335.3196363636364,112.55355555555555,146.1538888888889,140.76702857142857,177.51055813953488,170.93419047619048,211.95800000000003,194.73727272727274,287.0594545454545,333.59344186046513,198.74444444444444,107.37047368421052,169.11603921568627,103.2055,199.22150943396227,230.44945454545453,178.93923529411765,146.0503,123.35575,129.1656111111111,308.0238095238095],\"yaxis\":\"y\",\"type\":\"bar\"}],                        {\"template\":{\"data\":{\"histogram2dcontour\":[{\"type\":\"histogram2dcontour\",\"colorbar\":{\"outlinewidth\":0,\"ticks\":\"\"},\"colorscale\":[[0.0,\"#0d0887\"],[0.1111111111111111,\"#46039f\"],[0.2222222222222222,\"#7201a8\"],[0.3333333333333333,\"#9c179e\"],[0.4444444444444444,\"#bd3786\"],[0.5555555555555556,\"#d8576b\"],[0.6666666666666666,\"#ed7953\"],[0.7777777777777778,\"#fb9f3a\"],[0.8888888888888888,\"#fdca26\"],[1.0,\"#f0f921\"]]}],\"choropleth\":[{\"type\":\"choropleth\",\"colorbar\":{\"outlinewidth\":0,\"ticks\":\"\"}}],\"histogram2d\":[{\"type\":\"histogram2d\",\"colorbar\":{\"outlinewidth\":0,\"ticks\":\"\"},\"colorscale\":[[0.0,\"#0d0887\"],[0.1111111111111111,\"#46039f\"],[0.2222222222222222,\"#7201a8\"],[0.3333333333333333,\"#9c179e\"],[0.4444444444444444,\"#bd3786\"],[0.5555555555555556,\"#d8576b\"],[0.6666666666666666,\"#ed7953\"],[0.7777777777777778,\"#fb9f3a\"],[0.8888888888888888,\"#fdca26\"],[1.0,\"#f0f921\"]]}],\"heatmap\":[{\"type\":\"heatmap\",\"colorbar\":{\"outlinewidth\":0,\"ticks\":\"\"},\"colorscale\":[[0.0,\"#0d0887\"],[0.1111111111111111,\"#46039f\"],[0.2222222222222222,\"#7201a8\"],[0.3333333333333333,\"#9c179e\"],[0.4444444444444444,\"#bd3786\"],[0.5555555555555556,\"#d8576b\"],[0.6666666666666666,\"#ed7953\"],[0.7777777777777778,\"#fb9f3a\"],[0.8888888888888888,\"#fdca26\"],[1.0,\"#f0f921\"]]}],\"heatmapgl\":[{\"type\":\"heatmapgl\",\"colorbar\":{\"outlinewidth\":0,\"ticks\":\"\"},\"colorscale\":[[0.0,\"#0d0887\"],[0.1111111111111111,\"#46039f\"],[0.2222222222222222,\"#7201a8\"],[0.3333333333333333,\"#9c179e\"],[0.4444444444444444,\"#bd3786\"],[0.5555555555555556,\"#d8576b\"],[0.6666666666666666,\"#ed7953\"],[0.7777777777777778,\"#fb9f3a\"],[0.8888888888888888,\"#fdca26\"],[1.0,\"#f0f921\"]]}],\"contourcarpet\":[{\"type\":\"contourcarpet\",\"colorbar\":{\"outlinewidth\":0,\"ticks\":\"\"}}],\"contour\":[{\"type\":\"contour\",\"colorbar\":{\"outlinewidth\":0,\"ticks\":\"\"},\"colorscale\":[[0.0,\"#0d0887\"],[0.1111111111111111,\"#46039f\"],[0.2222222222222222,\"#7201a8\"],[0.3333333333333333,\"#9c179e\"],[0.4444444444444444,\"#bd3786\"],[0.5555555555555556,\"#d8576b\"],[0.6666666666666666,\"#ed7953\"],[0.7777777777777778,\"#fb9f3a\"],[0.8888888888888888,\"#fdca26\"],[1.0,\"#f0f921\"]]}],\"surface\":[{\"type\":\"surface\",\"colorbar\":{\"outlinewidth\":0,\"ticks\":\"\"},\"colorscale\":[[0.0,\"#0d0887\"],[0.1111111111111111,\"#46039f\"],[0.2222222222222222,\"#7201a8\"],[0.3333333333333333,\"#9c179e\"],[0.4444444444444444,\"#bd3786\"],[0.5555555555555556,\"#d8576b\"],[0.6666666666666666,\"#ed7953\"],[0.7777777777777778,\"#fb9f3a\"],[0.8888888888888888,\"#fdca26\"],[1.0,\"#f0f921\"]]}],\"mesh3d\":[{\"type\":\"mesh3d\",\"colorbar\":{\"outlinewidth\":0,\"ticks\":\"\"}}],\"scatter\":[{\"fillpattern\":{\"fillmode\":\"overlay\",\"size\":10,\"solidity\":0.2},\"type\":\"scatter\"}],\"parcoords\":[{\"type\":\"parcoords\",\"line\":{\"colorbar\":{\"outlinewidth\":0,\"ticks\":\"\"}}}],\"scatterpolargl\":[{\"type\":\"scatterpolargl\",\"marker\":{\"colorbar\":{\"outlinewidth\":0,\"ticks\":\"\"}}}],\"bar\":[{\"error_x\":{\"color\":\"#2a3f5f\"},\"error_y\":{\"color\":\"#2a3f5f\"},\"marker\":{\"line\":{\"color\":\"#E5ECF6\",\"width\":0.5},\"pattern\":{\"fillmode\":\"overlay\",\"size\":10,\"solidity\":0.2}},\"type\":\"bar\"}],\"scattergeo\":[{\"type\":\"scattergeo\",\"marker\":{\"colorbar\":{\"outlinewidth\":0,\"ticks\":\"\"}}}],\"scatterpolar\":[{\"type\":\"scatterpolar\",\"marker\":{\"colorbar\":{\"outlinewidth\":0,\"ticks\":\"\"}}}],\"histogram\":[{\"marker\":{\"pattern\":{\"fillmode\":\"overlay\",\"size\":10,\"solidity\":0.2}},\"type\":\"histogram\"}],\"scattergl\":[{\"type\":\"scattergl\",\"marker\":{\"colorbar\":{\"outlinewidth\":0,\"ticks\":\"\"}}}],\"scatter3d\":[{\"type\":\"scatter3d\",\"line\":{\"colorbar\":{\"outlinewidth\":0,\"ticks\":\"\"}},\"marker\":{\"colorbar\":{\"outlinewidth\":0,\"ticks\":\"\"}}}],\"scattermapbox\":[{\"type\":\"scattermapbox\",\"marker\":{\"colorbar\":{\"outlinewidth\":0,\"ticks\":\"\"}}}],\"scatterternary\":[{\"type\":\"scatterternary\",\"marker\":{\"colorbar\":{\"outlinewidth\":0,\"ticks\":\"\"}}}],\"scattercarpet\":[{\"type\":\"scattercarpet\",\"marker\":{\"colorbar\":{\"outlinewidth\":0,\"ticks\":\"\"}}}],\"carpet\":[{\"aaxis\":{\"endlinecolor\":\"#2a3f5f\",\"gridcolor\":\"white\",\"linecolor\":\"white\",\"minorgridcolor\":\"white\",\"startlinecolor\":\"#2a3f5f\"},\"baxis\":{\"endlinecolor\":\"#2a3f5f\",\"gridcolor\":\"white\",\"linecolor\":\"white\",\"minorgridcolor\":\"white\",\"startlinecolor\":\"#2a3f5f\"},\"type\":\"carpet\"}],\"table\":[{\"cells\":{\"fill\":{\"color\":\"#EBF0F8\"},\"line\":{\"color\":\"white\"}},\"header\":{\"fill\":{\"color\":\"#C8D4E3\"},\"line\":{\"color\":\"white\"}},\"type\":\"table\"}],\"barpolar\":[{\"marker\":{\"line\":{\"color\":\"#E5ECF6\",\"width\":0.5},\"pattern\":{\"fillmode\":\"overlay\",\"size\":10,\"solidity\":0.2}},\"type\":\"barpolar\"}],\"pie\":[{\"automargin\":true,\"type\":\"pie\"}]},\"layout\":{\"autotypenumbers\":\"strict\",\"colorway\":[\"#636efa\",\"#EF553B\",\"#00cc96\",\"#ab63fa\",\"#FFA15A\",\"#19d3f3\",\"#FF6692\",\"#B6E880\",\"#FF97FF\",\"#FECB52\"],\"font\":{\"color\":\"#2a3f5f\"},\"hovermode\":\"closest\",\"hoverlabel\":{\"align\":\"left\"},\"paper_bgcolor\":\"white\",\"plot_bgcolor\":\"#E5ECF6\",\"polar\":{\"bgcolor\":\"#E5ECF6\",\"angularaxis\":{\"gridcolor\":\"white\",\"linecolor\":\"white\",\"ticks\":\"\"},\"radialaxis\":{\"gridcolor\":\"white\",\"linecolor\":\"white\",\"ticks\":\"\"}},\"ternary\":{\"bgcolor\":\"#E5ECF6\",\"aaxis\":{\"gridcolor\":\"white\",\"linecolor\":\"white\",\"ticks\":\"\"},\"baxis\":{\"gridcolor\":\"white\",\"linecolor\":\"white\",\"ticks\":\"\"},\"caxis\":{\"gridcolor\":\"white\",\"linecolor\":\"white\",\"ticks\":\"\"}},\"coloraxis\":{\"colorbar\":{\"outlinewidth\":0,\"ticks\":\"\"}},\"colorscale\":{\"sequential\":[[0.0,\"#0d0887\"],[0.1111111111111111,\"#46039f\"],[0.2222222222222222,\"#7201a8\"],[0.3333333333333333,\"#9c179e\"],[0.4444444444444444,\"#bd3786\"],[0.5555555555555556,\"#d8576b\"],[0.6666666666666666,\"#ed7953\"],[0.7777777777777778,\"#fb9f3a\"],[0.8888888888888888,\"#fdca26\"],[1.0,\"#f0f921\"]],\"sequentialminus\":[[0.0,\"#0d0887\"],[0.1111111111111111,\"#46039f\"],[0.2222222222222222,\"#7201a8\"],[0.3333333333333333,\"#9c179e\"],[0.4444444444444444,\"#bd3786\"],[0.5555555555555556,\"#d8576b\"],[0.6666666666666666,\"#ed7953\"],[0.7777777777777778,\"#fb9f3a\"],[0.8888888888888888,\"#fdca26\"],[1.0,\"#f0f921\"]],\"diverging\":[[0,\"#8e0152\"],[0.1,\"#c51b7d\"],[0.2,\"#de77ae\"],[0.3,\"#f1b6da\"],[0.4,\"#fde0ef\"],[0.5,\"#f7f7f7\"],[0.6,\"#e6f5d0\"],[0.7,\"#b8e186\"],[0.8,\"#7fbc41\"],[0.9,\"#4d9221\"],[1,\"#276419\"]]},\"xaxis\":{\"gridcolor\":\"white\",\"linecolor\":\"white\",\"ticks\":\"\",\"title\":{\"standoff\":15},\"zerolinecolor\":\"white\",\"automargin\":true,\"zerolinewidth\":2},\"yaxis\":{\"gridcolor\":\"white\",\"linecolor\":\"white\",\"ticks\":\"\",\"title\":{\"standoff\":15},\"zerolinecolor\":\"white\",\"automargin\":true,\"zerolinewidth\":2},\"scene\":{\"xaxis\":{\"backgroundcolor\":\"#E5ECF6\",\"gridcolor\":\"white\",\"linecolor\":\"white\",\"showbackground\":true,\"ticks\":\"\",\"zerolinecolor\":\"white\",\"gridwidth\":2},\"yaxis\":{\"backgroundcolor\":\"#E5ECF6\",\"gridcolor\":\"white\",\"linecolor\":\"white\",\"showbackground\":true,\"ticks\":\"\",\"zerolinecolor\":\"white\",\"gridwidth\":2},\"zaxis\":{\"backgroundcolor\":\"#E5ECF6\",\"gridcolor\":\"white\",\"linecolor\":\"white\",\"showbackground\":true,\"ticks\":\"\",\"zerolinecolor\":\"white\",\"gridwidth\":2}},\"shapedefaults\":{\"line\":{\"color\":\"#2a3f5f\"}},\"annotationdefaults\":{\"arrowcolor\":\"#2a3f5f\",\"arrowhead\":0,\"arrowwidth\":1},\"geo\":{\"bgcolor\":\"white\",\"landcolor\":\"#E5ECF6\",\"subunitcolor\":\"white\",\"showland\":true,\"showlakes\":true,\"lakecolor\":\"white\"},\"title\":{\"x\":0.05},\"mapbox\":{\"style\":\"light\"}}},\"xaxis\":{\"anchor\":\"y\",\"domain\":[0.0,1.0],\"title\":{\"text\":\"Dateofbill\"}},\"yaxis\":{\"anchor\":\"x\",\"domain\":[0.0,1.0],\"title\":{\"text\":\"value\"}},\"legend\":{\"title\":{\"text\":\"variable\"},\"tracegroupgap\":0},\"margin\":{\"t\":60},\"barmode\":\"relative\"},                        {\"responsive\": true}                    ).then(function(){\n",
       "                            \n",
       "var gd = document.getElementById('7d1329a3-348c-4b3d-a821-9b991893f55d');\n",
       "var x = new MutationObserver(function (mutations, observer) {{\n",
       "        var display = window.getComputedStyle(gd).display;\n",
       "        if (!display || display === 'none') {{\n",
       "            console.log([gd, 'removed!']);\n",
       "            Plotly.purge(gd);\n",
       "            observer.disconnect();\n",
       "        }}\n",
       "}});\n",
       "\n",
       "// Listen for the removal of the full notebook cells\n",
       "var notebookContainer = gd.closest('#notebook-container');\n",
       "if (notebookContainer) {{\n",
       "    x.observe(notebookContainer, {childList: true});\n",
       "}}\n",
       "\n",
       "// Listen for the clearing of the current output cell\n",
       "var outputEl = gd.closest('.output');\n",
       "if (outputEl) {{\n",
       "    x.observe(outputEl, {childList: true});\n",
       "}}\n",
       "\n",
       "                        })                };                });            </script>        </div>"
      ]
     },
     "metadata": {},
     "output_type": "display_data"
    },
    {
     "data": {
      "text/plain": [
       "<Figure size 10000x10000 with 0 Axes>"
      ]
     },
     "metadata": {},
     "output_type": "display_data"
    }
   ],
   "source": [
    "pd.options.plotting.backend='plotly'\n",
    "data.groupby('Dateofbill')['Final_Sales'].mean().plot(kind='bar')"
   ]
  },
  {
   "cell_type": "code",
   "execution_count": null,
   "id": "2f6303f6-acc5-40a6-a77c-416480b24e63",
   "metadata": {},
   "outputs": [],
   "source": [
    "#Scatter Plot"
   ]
  },
  {
   "cell_type": "code",
   "execution_count": 38,
   "id": "05025d02-83f2-486c-8d84-fecea7595acc",
   "metadata": {},
   "outputs": [
    {
     "data": {
      "image/png": "[encoded data removed]",
      "text/plain": [
       "<Figure size 1000x600 with 1 Axes>"
      ]
     },
     "metadata": {},
     "output_type": "display_data"
    }
   ],
   "source": [
    "# Filter only sales data\n",
    "sales_data = data[data['Typeofsales'] == 'Sale']\n",
    "\n",
    "# Plot the scatter plot\n",
    "plt.figure(figsize=(10, 6))\n",
    "plt.scatter(sales_data['Quantity'], sales_data['Final_Sales'], alpha=0.5)\n",
    "\n",
    "# Find extreme points\n",
    "max_quantity_index = sales_data['Quantity'].idxmax()\n",
    "min_quantity_index = sales_data['Quantity'].idxmin()\n",
    "\n",
    "# Annotate extreme points with drug names\n",
    "plt.annotate(sales_data.loc[max_quantity_index, 'DrugName'],\n",
    "             (sales_data.loc[max_quantity_index, 'Quantity'], sales_data.loc[max_quantity_index, 'Final_Sales']),\n",
    "             xytext=(-20, 20), textcoords='offset points', ha='right', va='bottom',\n",
    "             bbox=dict(boxstyle='round,pad=0.5', fc='yellow', alpha=0.5),\n",
    "             arrowprops=dict(arrowstyle='->', connectionstyle='arc3,rad=0'))\n",
    "plt.annotate(sales_data.loc[min_quantity_index, 'DrugName'],\n",
    "             (sales_data.loc[min_quantity_index, 'Quantity'], sales_data.loc[min_quantity_index, 'Final_Sales']),\n",
    "             xytext=(-20, -20), textcoords='offset points', ha='right', va='top',\n",
    "             bbox=dict(boxstyle='round,pad=0.5', fc='yellow', alpha=0.5),\n",
    "             arrowprops=dict(arrowstyle='->', connectionstyle='arc3,rad=0'))\n",
    "\n",
    "plt.title('Relationship between Quantity Sold and Final Sales Amount')\n",
    "plt.xlabel('Quantity Sold')\n",
    "plt.ylabel('Final Sales Amount')\n",
    "plt.grid(True)\n",
    "plt.show()"
   ]
  },
  {
   "cell_type": "code",
   "execution_count": null,
   "id": "f84a3371-1124-4864-89db-34b10005c0ac",
   "metadata": {},
   "outputs": [],
   "source": [
    "#Histogram"
   ]
  },
  {
   "cell_type": "code",
   "execution_count": 51,
   "id": "487eac44-a050-4849-bd84-523c378bdcc0",
   "metadata": {},
   "outputs": [
    {
     "data": {
      "image/png": "[encoded data removed]",
      "text/plain": [
       "<Figure size 1000x500 with 1 Axes>"
      ]
     },
     "metadata": {},
     "output_type": "display_data"
    }
   ],
   "source": [
    "# Filter only sales data\n",
    "sales_data = data[data['Typeofsales'] == 'Sale']\n",
    "\n",
    "# Plot the histogram for drug quantities sold\n",
    "plt.figure(figsize=(10, 5))\n",
    "plt.hist(sales_data['Quantity'], bins=20, color='skyblue', edgecolor='black')\n",
    "plt.title('Distribution of Drug Quantities Sold')\n",
    "plt.xlabel('Quantity Sold')\n",
    "plt.ylabel('Frequency')\n",
    "plt.grid(True)\n",
    "plt.show()"
   ]
  },
  {
   "cell_type": "code",
   "execution_count": null,
   "id": "e2960a4b-954f-48ad-b8c4-c941751162d0",
   "metadata": {},
   "outputs": [],
   "source": [
    "#Box Plot"
   ]
  },
  {
   "cell_type": "code",
   "execution_count": 64,
   "id": "4ddd7dc8-0b79-42fb-9f92-45d1eba22e87",
   "metadata": {},
   "outputs": [
    {
     "data": {
      "image/png": "[encoded data removed]",
      "text/plain": [
       "<Figure size 1200x600 with 1 Axes>"
      ]
     },
     "metadata": {},
     "output_type": "display_data"
    }
   ],
   "source": [
    "# Filter only sales data\n",
    "sales_data = data[data['Typeofsales'] == 'Sale']\n",
    "\n",
    "# Group sales data by drug category\n",
    "grouped_data = sales_data.groupby('SubCat')['Final_Sales'].apply(list)\n",
    "\n",
    "# Create a list of final sales amounts for each drug category\n",
    "sales_by_category = [grouped_data[category] for category in grouped_data.index]\n",
    "\n",
    "# Plot the box plot\n",
    "plt.figure(figsize=(12, 6))\n",
    "plt.boxplot(sales_by_category, labels=grouped_data.index, patch_artist=True, showfliers=False)\n",
    "plt.title('Box Plot of Final Sales Amount by Drug Category')\n",
    "plt.xlabel('Drug Category')\n",
    "plt.ylabel('Final Sales Amount')\n",
    "plt.xticks(rotation=45)\n",
    "plt.grid(True)\n",
    "plt.tight_layout()\n",
    "plt.show()"
   ]
  },
  {
   "cell_type": "code",
   "execution_count": null,
   "id": "4116bd35-9894-4a7c-bc4f-83b2eb977b7c",
   "metadata": {},
   "outputs": [],
   "source": [
    "#Pie Plot"
   ]
  },
  {
   "cell_type": "code",
   "execution_count": 71,
   "id": "cb1fa599-c691-4765-8eaa-de2e365bcb76",
   "metadata": {},
   "outputs": [
    {
     "data": {
      "image/png": "[encoded data removed]",
      "text/plain": [
       "<Figure size 800x800 with 1 Axes>"
      ]
     },
     "metadata": {},
     "output_type": "display_data"
    }
   ],
   "source": [
    "\n",
    "# Filter only sales data\n",
    "sales_data = data[data['Typeofsales'] == 'Sale']\n",
    "\n",
    "# Group sales data by drug category and calculate total final sales for each category\n",
    "total_sales_by_category = sales_data.groupby('SubCat')['Final_Sales'].sum().sort_values()\n",
    "\n",
    "# Plot the pie plot\n",
    "plt.figure(figsize=(8, 8))\n",
    "plt.pie(total_sales_by_category, labels=total_sales_by_category.index, autopct='%1.1f%%', startangle=140)\n",
    "plt.title('Distribution of Sales by Drug Category')\n",
    "plt.axis('equal')  # Equal aspect ratio ensures that pie is drawn as a circle\n",
    "plt.tight_layout()\n",
    "plt.show()"
   ]
  },
  {
   "cell_type": "code",
   "execution_count": null,
   "id": "157b1821-6507-46b4-93d7-ccfd37000c52",
   "metadata": {},
   "outputs": [],
   "source": [
    "#Density Plot"
   ]
  },
  {
   "cell_type": "code",
   "execution_count": 77,
   "id": "c62be03d-ff6b-4887-9b1b-82b3e8a2d26e",
   "metadata": {},
   "outputs": [
    {
     "data": {
      "text/plain": [
       "(40.192, 4000.0)"
      ]
     },
     "execution_count": 77,
     "metadata": {},
     "output_type": "execute_result"
    },
    {
     "data": {
      "image/png": "[encoded data removed]",
      "text/plain": [
       "<Figure size 1000x600 with 1 Axes>"
      ]
     },
     "metadata": {},
     "output_type": "display_data"
    }
   ],
   "source": [
    "# Filter only sales data\n",
    "sales_data = data[data['Typeofsales'] == 'Sale']\n",
    "\n",
    "# Calculate the median of the \"Final Sales\" column\n",
    "median_final_sales = sales_data['Final_Sales'].median()\n",
    "\n",
    "# Create the density plot\n",
    "plt.figure(figsize=(10, 6))\n",
    "plt.hist(sales_data['Final_Sales'], bins=30, density=True, alpha=0.5, color='blue')\n",
    "\n",
    "# Create kernel density estimate\n",
    "density = np.linspace(sales_data['Final_Sales'].min(), 4000, 1000)  # Adjusted range for x-axis\n",
    "kde = (1 / (sales_data['Final_Sales'].std() * np.sqrt(2 * np.pi))) * np.exp(-0.5 * ((density - sales_data['Final_Sales'].mean()) / sales_data['Final_Sales'].std())**2)\n",
    "plt.plot(density, kde, color='red', linestyle='--', label='Kernel Density Estimate')\n",
    "\n",
    "plt.axvline(median_final_sales, color='green', linestyle='--', label=f'Median Final Sales: {median_final_sales:.2f}')\n",
    "plt.title('Density Plot of Final Sales')\n",
    "plt.xlabel('Final Sales')\n",
    "plt.ylabel('Density')\n",
    "plt.legend()\n",
    "plt.grid(True)\n",
    "plt.xlim(sales_data['Final_Sales'].min(), 4000)  # Set x-axis limits"
   ]
  },
  {
   "cell_type": "code",
   "execution_count": null,
   "id": "79f9e2cd-aa95-4f58-a46e-33e4610f2af6",
   "metadata": {},
   "outputs": [],
   "source": [
    "#Bootstrap Plot"
   ]
  },
  {
   "cell_type": "code",
   "execution_count": 78,
   "id": "97abc0f5-574f-4080-844e-83c56628767b",
   "metadata": {},
   "outputs": [
    {
     "data": {
      "image/png": "[encoded data removed]",
      "text/plain": [
       "<Figure size 1500x500 with 3 Axes>"
      ]
     },
     "metadata": {},
     "output_type": "display_data"
    }
   ],
   "source": [
    "# Filter only sales data\n",
    "sales_data = data[data['Typeofsales'] == 'Sale']\n",
    "\n",
    "# Define the number of bootstrap samples\n",
    "num_samples = 1000\n",
    "\n",
    "# Function to calculate midrange\n",
    "def midrange(arr):\n",
    "    return (np.max(arr) + np.min(arr)) / 2\n",
    "\n",
    "# Generate bootstrap samples and compute mean, median, and midrange for each sample\n",
    "bootstrap_means = []\n",
    "bootstrap_medians = []\n",
    "bootstrap_midranges = []\n",
    "\n",
    "for _ in range(num_samples):\n",
    "    sample = np.random.choice(sales_data['Final_Sales'], size=len(sales_data), replace=True)\n",
    "    bootstrap_means.append(np.mean(sample))\n",
    "    bootstrap_medians.append(np.median(sample))\n",
    "    bootstrap_midranges.append(midrange(sample))\n",
    "\n",
    "# Plot histograms of bootstrap means, medians, and midranges\n",
    "plt.figure(figsize=(15, 5))\n",
    "\n",
    "plt.subplot(1, 3, 1)\n",
    "plt.hist(bootstrap_means, bins=30, edgecolor='k', alpha=0.7)\n",
    "plt.title('Bootstrap Means')\n",
    "plt.xlabel('Mean')\n",
    "plt.ylabel('Frequency')\n",
    "\n",
    "plt.subplot(1, 3, 2)\n",
    "plt.hist(bootstrap_medians, bins=30, edgecolor='k', alpha=0.7)\n",
    "plt.title('Bootstrap Medians')\n",
    "plt.xlabel('Median')\n",
    "plt.ylabel('Frequency')\n",
    "\n",
    "plt.subplot(1, 3, 3)\n",
    "plt.hist(bootstrap_midranges, bins=30, edgecolor='k', alpha=0.7)\n",
    "plt.title('Bootstrap Midranges')\n",
    "plt.xlabel('Midrange')\n",
    "plt.ylabel('Frequency')\n",
    "\n",
    "plt.tight_layout()\n",
    "plt.show()"
   ]
  },
  {
   "cell_type": "code",
   "execution_count": null,
   "id": "45679158-f231-4949-bd03-d552995981ce",
   "metadata": {},
   "outputs": [],
   "source": [
    "#Pair Plot"
   ]
  },
  {
   "cell_type": "code",
   "execution_count": 82,
   "id": "e2c353db-6120-4f46-bf46-3f9ea021ca36",
   "metadata": {},
   "outputs": [
    {
     "data": {
      "image/png": "[encoded data removed]",
      "text/plain": [
       "<Figure size 1500x1000 with 12 Axes>"
      ]
     },
     "metadata": {},
     "output_type": "display_data"
    }
   ],
   "source": [
    "# Filter only sales data\n",
    "sales_data = data[data['Typeofsales'] == 'Sale']\n",
    "\n",
    "# Select categorical variables of interest\n",
    "categorical_vars = ['Specialisation', 'Dept', 'Formulation', 'SubCat']\n",
    "\n",
    "# Create contingency tables for each pair of categorical variables\n",
    "contingency_tables = {}\n",
    "for i in range(len(categorical_vars)):\n",
    "    for j in range(i + 1, len(categorical_vars)):\n",
    "        var1 = categorical_vars[i]\n",
    "        var2 = categorical_vars[j]\n",
    "        contingency_table = pd.crosstab(sales_data[var1], sales_data[var2])\n",
    "        contingency_tables[f'{var1}-{var2}'] = contingency_table\n",
    "\n",
    "# Plot contingency tables as heatmaps\n",
    "plt.figure(figsize=(15, 10))\n",
    "for idx, (title, contingency_table) in enumerate(contingency_tables.items(), 1):\n",
    "    plt.subplot(2, 3, idx)\n",
    "    plt.imshow(contingency_table, cmap='YlGnBu')\n",
    "    plt.colorbar()\n",
    "    plt.title(title)\n",
    "    plt.axis('off')  # Remove axis labels\n",
    "\n",
    "plt.tight_layout()\n",
    "plt.show()"
   ]
  },
  {
   "cell_type": "code",
   "execution_count": null,
   "id": "aada1e24-ea4b-4332-942e-73c4fd83003e",
   "metadata": {},
   "outputs": [],
   "source": []
  },
  {
   "cell_type": "code",
   "execution_count": 86,
   "id": "c27b96aa-4e8a-48a5-88fd-76984e249607",
   "metadata": {},
   "outputs": [
    {
     "data": {
      "image/png": "[encoded data removed]",
      "text/plain": [
       "<Figure size 800x600 with 1 Axes>"
      ]
     },
     "metadata": {},
     "output_type": "display_data"
    }
   ],
   "source": [
    "# Filter only sales data and select the numerical variable of interest\n",
    "sales_data = data[data['Typeofsales'] == 'Sale']\n",
    "numerical_variable = 'Final_Sales'\n",
    "\n",
    "# Remove NaN values if any\n",
    "sales_data = sales_data.dropna(subset=[numerical_variable])\n",
    "\n",
    "# Sort the data\n",
    "sorted_data = np.sort(sales_data[numerical_variable])\n",
    "\n",
    "# Calculate the quantiles of the sorted data\n",
    "n = len(sorted_data)\n",
    "percentiles = np.arange(1, n + 1) / n\n",
    "theoretical_quantiles = np.quantile(sorted_data, percentiles)\n",
    "\n",
    "# Calculate the quantiles of a theoretical normal distribution\n",
    "normal_quantiles = np.random.normal(np.mean(sorted_data), np.std(sorted_data), n)\n",
    "normal_quantiles.sort()\n",
    "\n",
    "# Create QQ plot\n",
    "plt.figure(figsize=(8, 6))\n",
    "plt.scatter(normal_quantiles, theoretical_quantiles, color='blue', s=10)\n",
    "plt.plot([np.min(sorted_data), np.max(sorted_data)], [np.min(sorted_data), np.max(sorted_data)], color='red', linestyle='--')\n",
    "plt.title('QQ Plot of Final Sales')\n",
    "plt.xlabel('Theoretical Quantiles')\n",
    "plt.ylabel('Sample Quantiles')\n",
    "plt.grid(True)\n",
    "plt.show()"
   ]
  },
  {
   "cell_type": "code",
   "execution_count": null,
   "id": "e5638eb0-27e0-4498-a09d-17dd9bacaf48",
   "metadata": {},
   "outputs": [],
   "source": []
  }
 ],
 "metadata": {
  "kernelspec": {
   "display_name": "Python 3 (ipykernel)",
   "language": "python",
   "name": "python3"
  },
  "language_info": {
   "codemirror_mode": {
    "name": "ipython",
    "version": 3
   },
   "file_extension": ".py",
   "mimetype": "text/x-python",
   "name": "python",
   "nbconvert_exporter": "python",
   "pygments_lexer": "ipython3",
   "version": "3.11.7"
  }
 },
 "nbformat": 4,
 "nbformat_minor": 5
}
